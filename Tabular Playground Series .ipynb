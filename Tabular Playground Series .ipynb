{
  "cells": [
    {
      "cell_type": "markdown",
      "metadata": {
        "id": "view-in-github",
        "colab_type": "text"
      },
      "source": [
        "<a href=\"https://colab.research.google.com/github/Gobals89/dlcourse_ai/blob/master/Tabular%20Playground%20Series%20.ipynb\" target=\"_parent\"><img src=\"https://colab.research.google.com/assets/colab-badge.svg\" alt=\"Open In Colab\"/></a>"
      ]
    },
    {
      "cell_type": "code",
      "execution_count": 1,
      "metadata": {
        "id": "5a01a12d"
      },
      "outputs": [],
      "source": [
        "import pandas as pd\n",
        "import numpy as np\n",
        "import matplotlib.pyplot as plt\n",
        "%matplotlib inline\n",
        "import seaborn as sns\n",
        "import warnings\n",
        "warnings.filterwarnings('ignore')\n",
        "import plotly.graph_objs as go"
      ],
      "id": "5a01a12d"
    },
    {
      "cell_type": "code",
      "execution_count": 2,
      "metadata": {
        "id": "0d34182c",
        "colab": {
          "base_uri": "https://localhost:8080/",
          "height": 424
        },
        "outputId": "6d3a8b75-9ddb-4465-bdbb-015a1fed9478"
      },
      "outputs": [
        {
          "output_type": "execute_result",
          "data": {
            "text/plain": [
              "       row_id       date  country       store  \\\n",
              "0           0 2017-01-01  Belgium  KaggleMart   \n",
              "1           1 2017-01-01  Belgium  KaggleMart   \n",
              "2           2 2017-01-01  Belgium  KaggleMart   \n",
              "3           3 2017-01-01  Belgium  KaggleMart   \n",
              "4           4 2017-01-01  Belgium  KaggleRama   \n",
              "...       ...        ...      ...         ...   \n",
              "70123   70123 2020-12-31    Spain  KaggleMart   \n",
              "70124   70124 2020-12-31    Spain  KaggleRama   \n",
              "70125   70125 2020-12-31    Spain  KaggleRama   \n",
              "70126   70126 2020-12-31    Spain  KaggleRama   \n",
              "70127   70127 2020-12-31    Spain  KaggleRama   \n",
              "\n",
              "                                product  num_sold  \n",
              "0            Kaggle Advanced Techniques       663  \n",
              "1                Kaggle Getting Started       615  \n",
              "2                    Kaggle Recipe Book       480  \n",
              "3      Kaggle for Kids: One Smart Goose       710  \n",
              "4            Kaggle Advanced Techniques       240  \n",
              "...                                 ...       ...  \n",
              "70123  Kaggle for Kids: One Smart Goose       614  \n",
              "70124        Kaggle Advanced Techniques       215  \n",
              "70125            Kaggle Getting Started       158  \n",
              "70126                Kaggle Recipe Book       135  \n",
              "70127  Kaggle for Kids: One Smart Goose       202  \n",
              "\n",
              "[70128 rows x 6 columns]"
            ],
            "text/html": [
              "\n",
              "  <div id=\"df-133b3a95-a475-470b-ac16-e82e2538d451\">\n",
              "    <div class=\"colab-df-container\">\n",
              "      <div>\n",
              "<style scoped>\n",
              "    .dataframe tbody tr th:only-of-type {\n",
              "        vertical-align: middle;\n",
              "    }\n",
              "\n",
              "    .dataframe tbody tr th {\n",
              "        vertical-align: top;\n",
              "    }\n",
              "\n",
              "    .dataframe thead th {\n",
              "        text-align: right;\n",
              "    }\n",
              "</style>\n",
              "<table border=\"1\" class=\"dataframe\">\n",
              "  <thead>\n",
              "    <tr style=\"text-align: right;\">\n",
              "      <th></th>\n",
              "      <th>row_id</th>\n",
              "      <th>date</th>\n",
              "      <th>country</th>\n",
              "      <th>store</th>\n",
              "      <th>product</th>\n",
              "      <th>num_sold</th>\n",
              "    </tr>\n",
              "  </thead>\n",
              "  <tbody>\n",
              "    <tr>\n",
              "      <th>0</th>\n",
              "      <td>0</td>\n",
              "      <td>2017-01-01</td>\n",
              "      <td>Belgium</td>\n",
              "      <td>KaggleMart</td>\n",
              "      <td>Kaggle Advanced Techniques</td>\n",
              "      <td>663</td>\n",
              "    </tr>\n",
              "    <tr>\n",
              "      <th>1</th>\n",
              "      <td>1</td>\n",
              "      <td>2017-01-01</td>\n",
              "      <td>Belgium</td>\n",
              "      <td>KaggleMart</td>\n",
              "      <td>Kaggle Getting Started</td>\n",
              "      <td>615</td>\n",
              "    </tr>\n",
              "    <tr>\n",
              "      <th>2</th>\n",
              "      <td>2</td>\n",
              "      <td>2017-01-01</td>\n",
              "      <td>Belgium</td>\n",
              "      <td>KaggleMart</td>\n",
              "      <td>Kaggle Recipe Book</td>\n",
              "      <td>480</td>\n",
              "    </tr>\n",
              "    <tr>\n",
              "      <th>3</th>\n",
              "      <td>3</td>\n",
              "      <td>2017-01-01</td>\n",
              "      <td>Belgium</td>\n",
              "      <td>KaggleMart</td>\n",
              "      <td>Kaggle for Kids: One Smart Goose</td>\n",
              "      <td>710</td>\n",
              "    </tr>\n",
              "    <tr>\n",
              "      <th>4</th>\n",
              "      <td>4</td>\n",
              "      <td>2017-01-01</td>\n",
              "      <td>Belgium</td>\n",
              "      <td>KaggleRama</td>\n",
              "      <td>Kaggle Advanced Techniques</td>\n",
              "      <td>240</td>\n",
              "    </tr>\n",
              "    <tr>\n",
              "      <th>...</th>\n",
              "      <td>...</td>\n",
              "      <td>...</td>\n",
              "      <td>...</td>\n",
              "      <td>...</td>\n",
              "      <td>...</td>\n",
              "      <td>...</td>\n",
              "    </tr>\n",
              "    <tr>\n",
              "      <th>70123</th>\n",
              "      <td>70123</td>\n",
              "      <td>2020-12-31</td>\n",
              "      <td>Spain</td>\n",
              "      <td>KaggleMart</td>\n",
              "      <td>Kaggle for Kids: One Smart Goose</td>\n",
              "      <td>614</td>\n",
              "    </tr>\n",
              "    <tr>\n",
              "      <th>70124</th>\n",
              "      <td>70124</td>\n",
              "      <td>2020-12-31</td>\n",
              "      <td>Spain</td>\n",
              "      <td>KaggleRama</td>\n",
              "      <td>Kaggle Advanced Techniques</td>\n",
              "      <td>215</td>\n",
              "    </tr>\n",
              "    <tr>\n",
              "      <th>70125</th>\n",
              "      <td>70125</td>\n",
              "      <td>2020-12-31</td>\n",
              "      <td>Spain</td>\n",
              "      <td>KaggleRama</td>\n",
              "      <td>Kaggle Getting Started</td>\n",
              "      <td>158</td>\n",
              "    </tr>\n",
              "    <tr>\n",
              "      <th>70126</th>\n",
              "      <td>70126</td>\n",
              "      <td>2020-12-31</td>\n",
              "      <td>Spain</td>\n",
              "      <td>KaggleRama</td>\n",
              "      <td>Kaggle Recipe Book</td>\n",
              "      <td>135</td>\n",
              "    </tr>\n",
              "    <tr>\n",
              "      <th>70127</th>\n",
              "      <td>70127</td>\n",
              "      <td>2020-12-31</td>\n",
              "      <td>Spain</td>\n",
              "      <td>KaggleRama</td>\n",
              "      <td>Kaggle for Kids: One Smart Goose</td>\n",
              "      <td>202</td>\n",
              "    </tr>\n",
              "  </tbody>\n",
              "</table>\n",
              "<p>70128 rows × 6 columns</p>\n",
              "</div>\n",
              "      <button class=\"colab-df-convert\" onclick=\"convertToInteractive('df-133b3a95-a475-470b-ac16-e82e2538d451')\"\n",
              "              title=\"Convert this dataframe to an interactive table.\"\n",
              "              style=\"display:none;\">\n",
              "        \n",
              "  <svg xmlns=\"http://www.w3.org/2000/svg\" height=\"24px\"viewBox=\"0 0 24 24\"\n",
              "       width=\"24px\">\n",
              "    <path d=\"M0 0h24v24H0V0z\" fill=\"none\"/>\n",
              "    <path d=\"M18.56 5.44l.94 2.06.94-2.06 2.06-.94-2.06-.94-.94-2.06-.94 2.06-2.06.94zm-11 1L8.5 8.5l.94-2.06 2.06-.94-2.06-.94L8.5 2.5l-.94 2.06-2.06.94zm10 10l.94 2.06.94-2.06 2.06-.94-2.06-.94-.94-2.06-.94 2.06-2.06.94z\"/><path d=\"M17.41 7.96l-1.37-1.37c-.4-.4-.92-.59-1.43-.59-.52 0-1.04.2-1.43.59L10.3 9.45l-7.72 7.72c-.78.78-.78 2.05 0 2.83L4 21.41c.39.39.9.59 1.41.59.51 0 1.02-.2 1.41-.59l7.78-7.78 2.81-2.81c.8-.78.8-2.07 0-2.86zM5.41 20L4 18.59l7.72-7.72 1.47 1.35L5.41 20z\"/>\n",
              "  </svg>\n",
              "      </button>\n",
              "      \n",
              "  <style>\n",
              "    .colab-df-container {\n",
              "      display:flex;\n",
              "      flex-wrap:wrap;\n",
              "      gap: 12px;\n",
              "    }\n",
              "\n",
              "    .colab-df-convert {\n",
              "      background-color: #E8F0FE;\n",
              "      border: none;\n",
              "      border-radius: 50%;\n",
              "      cursor: pointer;\n",
              "      display: none;\n",
              "      fill: #1967D2;\n",
              "      height: 32px;\n",
              "      padding: 0 0 0 0;\n",
              "      width: 32px;\n",
              "    }\n",
              "\n",
              "    .colab-df-convert:hover {\n",
              "      background-color: #E2EBFA;\n",
              "      box-shadow: 0px 1px 2px rgba(60, 64, 67, 0.3), 0px 1px 3px 1px rgba(60, 64, 67, 0.15);\n",
              "      fill: #174EA6;\n",
              "    }\n",
              "\n",
              "    [theme=dark] .colab-df-convert {\n",
              "      background-color: #3B4455;\n",
              "      fill: #D2E3FC;\n",
              "    }\n",
              "\n",
              "    [theme=dark] .colab-df-convert:hover {\n",
              "      background-color: #434B5C;\n",
              "      box-shadow: 0px 1px 3px 1px rgba(0, 0, 0, 0.15);\n",
              "      filter: drop-shadow(0px 1px 2px rgba(0, 0, 0, 0.3));\n",
              "      fill: #FFFFFF;\n",
              "    }\n",
              "  </style>\n",
              "\n",
              "      <script>\n",
              "        const buttonEl =\n",
              "          document.querySelector('#df-133b3a95-a475-470b-ac16-e82e2538d451 button.colab-df-convert');\n",
              "        buttonEl.style.display =\n",
              "          google.colab.kernel.accessAllowed ? 'block' : 'none';\n",
              "\n",
              "        async function convertToInteractive(key) {\n",
              "          const element = document.querySelector('#df-133b3a95-a475-470b-ac16-e82e2538d451');\n",
              "          const dataTable =\n",
              "            await google.colab.kernel.invokeFunction('convertToInteractive',\n",
              "                                                     [key], {});\n",
              "          if (!dataTable) return;\n",
              "\n",
              "          const docLinkHtml = 'Like what you see? Visit the ' +\n",
              "            '<a target=\"_blank\" href=https://colab.research.google.com/notebooks/data_table.ipynb>data table notebook</a>'\n",
              "            + ' to learn more about interactive tables.';\n",
              "          element.innerHTML = '';\n",
              "          dataTable['output_type'] = 'display_data';\n",
              "          await google.colab.output.renderOutput(dataTable, element);\n",
              "          const docLink = document.createElement('div');\n",
              "          docLink.innerHTML = docLinkHtml;\n",
              "          element.appendChild(docLink);\n",
              "        }\n",
              "      </script>\n",
              "    </div>\n",
              "  </div>\n",
              "  "
            ]
          },
          "metadata": {},
          "execution_count": 2
        }
      ],
      "source": [
        "df_train = pd.read_csv('train.csv', sep=',', parse_dates=['date'], index_col=False)\n",
        "df_train"
      ],
      "id": "0d34182c"
    },
    {
      "cell_type": "code",
      "execution_count": 3,
      "metadata": {
        "colab": {
          "base_uri": "https://localhost:8080/",
          "height": 424
        },
        "id": "d8d6522e",
        "outputId": "f16da40a-bbfe-431f-b893-2453f28e5b9c"
      },
      "outputs": [
        {
          "output_type": "execute_result",
          "data": {
            "text/plain": [
              "       row_id       date  country       store  \\\n",
              "0       70128 2021-01-01  Belgium  KaggleMart   \n",
              "1       70129 2021-01-01  Belgium  KaggleMart   \n",
              "2       70130 2021-01-01  Belgium  KaggleMart   \n",
              "3       70131 2021-01-01  Belgium  KaggleMart   \n",
              "4       70132 2021-01-01  Belgium  KaggleRama   \n",
              "...       ...        ...      ...         ...   \n",
              "17515   87643 2021-12-31    Spain  KaggleMart   \n",
              "17516   87644 2021-12-31    Spain  KaggleRama   \n",
              "17517   87645 2021-12-31    Spain  KaggleRama   \n",
              "17518   87646 2021-12-31    Spain  KaggleRama   \n",
              "17519   87647 2021-12-31    Spain  KaggleRama   \n",
              "\n",
              "                                product  \n",
              "0            Kaggle Advanced Techniques  \n",
              "1                Kaggle Getting Started  \n",
              "2                    Kaggle Recipe Book  \n",
              "3      Kaggle for Kids: One Smart Goose  \n",
              "4            Kaggle Advanced Techniques  \n",
              "...                                 ...  \n",
              "17515  Kaggle for Kids: One Smart Goose  \n",
              "17516        Kaggle Advanced Techniques  \n",
              "17517            Kaggle Getting Started  \n",
              "17518                Kaggle Recipe Book  \n",
              "17519  Kaggle for Kids: One Smart Goose  \n",
              "\n",
              "[17520 rows x 5 columns]"
            ],
            "text/html": [
              "\n",
              "  <div id=\"df-aa0384de-0fe1-4d92-bbf4-0b3940a705ec\">\n",
              "    <div class=\"colab-df-container\">\n",
              "      <div>\n",
              "<style scoped>\n",
              "    .dataframe tbody tr th:only-of-type {\n",
              "        vertical-align: middle;\n",
              "    }\n",
              "\n",
              "    .dataframe tbody tr th {\n",
              "        vertical-align: top;\n",
              "    }\n",
              "\n",
              "    .dataframe thead th {\n",
              "        text-align: right;\n",
              "    }\n",
              "</style>\n",
              "<table border=\"1\" class=\"dataframe\">\n",
              "  <thead>\n",
              "    <tr style=\"text-align: right;\">\n",
              "      <th></th>\n",
              "      <th>row_id</th>\n",
              "      <th>date</th>\n",
              "      <th>country</th>\n",
              "      <th>store</th>\n",
              "      <th>product</th>\n",
              "    </tr>\n",
              "  </thead>\n",
              "  <tbody>\n",
              "    <tr>\n",
              "      <th>0</th>\n",
              "      <td>70128</td>\n",
              "      <td>2021-01-01</td>\n",
              "      <td>Belgium</td>\n",
              "      <td>KaggleMart</td>\n",
              "      <td>Kaggle Advanced Techniques</td>\n",
              "    </tr>\n",
              "    <tr>\n",
              "      <th>1</th>\n",
              "      <td>70129</td>\n",
              "      <td>2021-01-01</td>\n",
              "      <td>Belgium</td>\n",
              "      <td>KaggleMart</td>\n",
              "      <td>Kaggle Getting Started</td>\n",
              "    </tr>\n",
              "    <tr>\n",
              "      <th>2</th>\n",
              "      <td>70130</td>\n",
              "      <td>2021-01-01</td>\n",
              "      <td>Belgium</td>\n",
              "      <td>KaggleMart</td>\n",
              "      <td>Kaggle Recipe Book</td>\n",
              "    </tr>\n",
              "    <tr>\n",
              "      <th>3</th>\n",
              "      <td>70131</td>\n",
              "      <td>2021-01-01</td>\n",
              "      <td>Belgium</td>\n",
              "      <td>KaggleMart</td>\n",
              "      <td>Kaggle for Kids: One Smart Goose</td>\n",
              "    </tr>\n",
              "    <tr>\n",
              "      <th>4</th>\n",
              "      <td>70132</td>\n",
              "      <td>2021-01-01</td>\n",
              "      <td>Belgium</td>\n",
              "      <td>KaggleRama</td>\n",
              "      <td>Kaggle Advanced Techniques</td>\n",
              "    </tr>\n",
              "    <tr>\n",
              "      <th>...</th>\n",
              "      <td>...</td>\n",
              "      <td>...</td>\n",
              "      <td>...</td>\n",
              "      <td>...</td>\n",
              "      <td>...</td>\n",
              "    </tr>\n",
              "    <tr>\n",
              "      <th>17515</th>\n",
              "      <td>87643</td>\n",
              "      <td>2021-12-31</td>\n",
              "      <td>Spain</td>\n",
              "      <td>KaggleMart</td>\n",
              "      <td>Kaggle for Kids: One Smart Goose</td>\n",
              "    </tr>\n",
              "    <tr>\n",
              "      <th>17516</th>\n",
              "      <td>87644</td>\n",
              "      <td>2021-12-31</td>\n",
              "      <td>Spain</td>\n",
              "      <td>KaggleRama</td>\n",
              "      <td>Kaggle Advanced Techniques</td>\n",
              "    </tr>\n",
              "    <tr>\n",
              "      <th>17517</th>\n",
              "      <td>87645</td>\n",
              "      <td>2021-12-31</td>\n",
              "      <td>Spain</td>\n",
              "      <td>KaggleRama</td>\n",
              "      <td>Kaggle Getting Started</td>\n",
              "    </tr>\n",
              "    <tr>\n",
              "      <th>17518</th>\n",
              "      <td>87646</td>\n",
              "      <td>2021-12-31</td>\n",
              "      <td>Spain</td>\n",
              "      <td>KaggleRama</td>\n",
              "      <td>Kaggle Recipe Book</td>\n",
              "    </tr>\n",
              "    <tr>\n",
              "      <th>17519</th>\n",
              "      <td>87647</td>\n",
              "      <td>2021-12-31</td>\n",
              "      <td>Spain</td>\n",
              "      <td>KaggleRama</td>\n",
              "      <td>Kaggle for Kids: One Smart Goose</td>\n",
              "    </tr>\n",
              "  </tbody>\n",
              "</table>\n",
              "<p>17520 rows × 5 columns</p>\n",
              "</div>\n",
              "      <button class=\"colab-df-convert\" onclick=\"convertToInteractive('df-aa0384de-0fe1-4d92-bbf4-0b3940a705ec')\"\n",
              "              title=\"Convert this dataframe to an interactive table.\"\n",
              "              style=\"display:none;\">\n",
              "        \n",
              "  <svg xmlns=\"http://www.w3.org/2000/svg\" height=\"24px\"viewBox=\"0 0 24 24\"\n",
              "       width=\"24px\">\n",
              "    <path d=\"M0 0h24v24H0V0z\" fill=\"none\"/>\n",
              "    <path d=\"M18.56 5.44l.94 2.06.94-2.06 2.06-.94-2.06-.94-.94-2.06-.94 2.06-2.06.94zm-11 1L8.5 8.5l.94-2.06 2.06-.94-2.06-.94L8.5 2.5l-.94 2.06-2.06.94zm10 10l.94 2.06.94-2.06 2.06-.94-2.06-.94-.94-2.06-.94 2.06-2.06.94z\"/><path d=\"M17.41 7.96l-1.37-1.37c-.4-.4-.92-.59-1.43-.59-.52 0-1.04.2-1.43.59L10.3 9.45l-7.72 7.72c-.78.78-.78 2.05 0 2.83L4 21.41c.39.39.9.59 1.41.59.51 0 1.02-.2 1.41-.59l7.78-7.78 2.81-2.81c.8-.78.8-2.07 0-2.86zM5.41 20L4 18.59l7.72-7.72 1.47 1.35L5.41 20z\"/>\n",
              "  </svg>\n",
              "      </button>\n",
              "      \n",
              "  <style>\n",
              "    .colab-df-container {\n",
              "      display:flex;\n",
              "      flex-wrap:wrap;\n",
              "      gap: 12px;\n",
              "    }\n",
              "\n",
              "    .colab-df-convert {\n",
              "      background-color: #E8F0FE;\n",
              "      border: none;\n",
              "      border-radius: 50%;\n",
              "      cursor: pointer;\n",
              "      display: none;\n",
              "      fill: #1967D2;\n",
              "      height: 32px;\n",
              "      padding: 0 0 0 0;\n",
              "      width: 32px;\n",
              "    }\n",
              "\n",
              "    .colab-df-convert:hover {\n",
              "      background-color: #E2EBFA;\n",
              "      box-shadow: 0px 1px 2px rgba(60, 64, 67, 0.3), 0px 1px 3px 1px rgba(60, 64, 67, 0.15);\n",
              "      fill: #174EA6;\n",
              "    }\n",
              "\n",
              "    [theme=dark] .colab-df-convert {\n",
              "      background-color: #3B4455;\n",
              "      fill: #D2E3FC;\n",
              "    }\n",
              "\n",
              "    [theme=dark] .colab-df-convert:hover {\n",
              "      background-color: #434B5C;\n",
              "      box-shadow: 0px 1px 3px 1px rgba(0, 0, 0, 0.15);\n",
              "      filter: drop-shadow(0px 1px 2px rgba(0, 0, 0, 0.3));\n",
              "      fill: #FFFFFF;\n",
              "    }\n",
              "  </style>\n",
              "\n",
              "      <script>\n",
              "        const buttonEl =\n",
              "          document.querySelector('#df-aa0384de-0fe1-4d92-bbf4-0b3940a705ec button.colab-df-convert');\n",
              "        buttonEl.style.display =\n",
              "          google.colab.kernel.accessAllowed ? 'block' : 'none';\n",
              "\n",
              "        async function convertToInteractive(key) {\n",
              "          const element = document.querySelector('#df-aa0384de-0fe1-4d92-bbf4-0b3940a705ec');\n",
              "          const dataTable =\n",
              "            await google.colab.kernel.invokeFunction('convertToInteractive',\n",
              "                                                     [key], {});\n",
              "          if (!dataTable) return;\n",
              "\n",
              "          const docLinkHtml = 'Like what you see? Visit the ' +\n",
              "            '<a target=\"_blank\" href=https://colab.research.google.com/notebooks/data_table.ipynb>data table notebook</a>'\n",
              "            + ' to learn more about interactive tables.';\n",
              "          element.innerHTML = '';\n",
              "          dataTable['output_type'] = 'display_data';\n",
              "          await google.colab.output.renderOutput(dataTable, element);\n",
              "          const docLink = document.createElement('div');\n",
              "          docLink.innerHTML = docLinkHtml;\n",
              "          element.appendChild(docLink);\n",
              "        }\n",
              "      </script>\n",
              "    </div>\n",
              "  </div>\n",
              "  "
            ]
          },
          "metadata": {},
          "execution_count": 3
        }
      ],
      "source": [
        "df_test = pd.read_csv('test.csv', sep=',', parse_dates=['date'])\n",
        "df_test"
      ],
      "id": "d8d6522e"
    },
    {
      "cell_type": "code",
      "execution_count": 4,
      "metadata": {
        "colab": {
          "base_uri": "https://localhost:8080/"
        },
        "id": "556ba7c5",
        "outputId": "54e1d427-42cd-4980-893b-28a2b28651a3"
      },
      "outputs": [
        {
          "output_type": "execute_result",
          "data": {
            "text/plain": [
              "70128"
            ]
          },
          "metadata": {},
          "execution_count": 4
        }
      ],
      "source": [
        "place_split = df_train.shape[0]\n",
        "place_split"
      ],
      "id": "556ba7c5"
    },
    {
      "cell_type": "code",
      "execution_count": 5,
      "metadata": {
        "colab": {
          "base_uri": "https://localhost:8080/"
        },
        "id": "e352902d",
        "outputId": "1dc9db8c-19d8-4037-eb3a-4c00e4a2eb27"
      },
      "outputs": [
        {
          "output_type": "stream",
          "name": "stdout",
          "text": [
            "<class 'pandas.core.frame.DataFrame'>\n",
            "RangeIndex: 70128 entries, 0 to 70127\n",
            "Data columns (total 6 columns):\n",
            " #   Column    Non-Null Count  Dtype         \n",
            "---  ------    --------------  -----         \n",
            " 0   row_id    70128 non-null  int64         \n",
            " 1   date      70128 non-null  datetime64[ns]\n",
            " 2   country   70128 non-null  object        \n",
            " 3   store     70128 non-null  object        \n",
            " 4   product   70128 non-null  object        \n",
            " 5   num_sold  70128 non-null  int64         \n",
            "dtypes: datetime64[ns](1), int64(2), object(3)\n",
            "memory usage: 3.2+ MB\n"
          ]
        }
      ],
      "source": [
        "df_train.info()"
      ],
      "id": "e352902d"
    },
    {
      "cell_type": "code",
      "source": [
        "feat_float = df_train.select_dtypes(np.float).columns\n",
        "feat_int = df_train.select_dtypes(np.int).columns\n",
        "feat_object = df_train.select_dtypes(np.object).columns\n",
        "print(\"Float Features:\",feat_float)\n",
        "print(\"Integer Features:\",feat_int)\n",
        "print(\"Object Features:\",feat_object)"
      ],
      "metadata": {
        "colab": {
          "base_uri": "https://localhost:8080/"
        },
        "id": "emIGFdbeB8ei",
        "outputId": "276c03df-c396-48c3-af51-a250f6eb9adb"
      },
      "id": "emIGFdbeB8ei",
      "execution_count": 6,
      "outputs": [
        {
          "output_type": "stream",
          "name": "stdout",
          "text": [
            "Float Features: Index([], dtype='object')\n",
            "Integer Features: Index(['row_id', 'num_sold'], dtype='object')\n",
            "Object Features: Index(['country', 'store', 'product'], dtype='object')\n"
          ]
        }
      ]
    },
    {
      "cell_type": "code",
      "source": [
        "labels=['Integer Features', 'Object Features']\n",
        "values= [len(feat_int), len(feat_object)]\n",
        "\n",
        "\n",
        "fig = go.Figure()\n",
        "fig.add_trace(go.Pie(values = values,labels = labels,hole = 0.5, \n",
        "                     hoverinfo ='label+percent'))\n",
        "fig.update_traces(textfont_size = 12, hoverinfo ='label+percent',textinfo ='label', \n",
        "                  showlegend = False,marker = dict(colors =[\"#a8e6cf\",\"#ff8b94\"]),\n",
        "                  title = dict(text = 'Features Distribution'))  \n",
        "fig.update_layout(height = 500, width = 700, bargap = 0.1, xaxis = dict(tickmode ='linear'),\n",
        "                  title_text =\"<b>Features Distribution</b>\",paper_bgcolor =\"#F4F2F0\",\n",
        "                  plot_bgcolor =\"#F4F2F0\",\n",
        "                  title_font = dict(size = 20, family ='Verdana', color ='#003566'),\n",
        "                  hoverlabel = dict(font_size = 13))\n",
        "fig.update_layout(shapes = [dict(type =\"line\", xref ='paper', yref ='paper',\n",
        "                                 x0 = -0.08, y0 = 1.09, x1 = 0.405, y1 = 1.09)])\n",
        "fig.show()"
      ],
      "metadata": {
        "colab": {
          "base_uri": "https://localhost:8080/",
          "height": 517
        },
        "id": "TVX62FaSCW8o",
        "outputId": "68485b42-75ef-4862-eb87-9c1b8d33f6ff"
      },
      "id": "TVX62FaSCW8o",
      "execution_count": 7,
      "outputs": [
        {
          "output_type": "display_data",
          "data": {
            "text/html": [
              "<html>\n",
              "<head><meta charset=\"utf-8\" /></head>\n",
              "<body>\n",
              "    <div>            <script src=\"https://cdnjs.cloudflare.com/ajax/libs/mathjax/2.7.5/MathJax.js?config=TeX-AMS-MML_SVG\"></script><script type=\"text/javascript\">if (window.MathJax) {MathJax.Hub.Config({SVG: {font: \"STIX-Web\"}});}</script>                <script type=\"text/javascript\">window.PlotlyConfig = {MathJaxConfig: 'local'};</script>\n",
              "        <script src=\"https://cdn.plot.ly/plotly-2.8.3.min.js\"></script>                <div id=\"2ffffd33-e218-4725-969a-36507634927f\" class=\"plotly-graph-div\" style=\"height:500px; width:700px;\"></div>            <script type=\"text/javascript\">                                    window.PLOTLYENV=window.PLOTLYENV || {};                                    if (document.getElementById(\"2ffffd33-e218-4725-969a-36507634927f\")) {                    Plotly.newPlot(                        \"2ffffd33-e218-4725-969a-36507634927f\",                        [{\"hole\":0.5,\"hoverinfo\":\"label+percent\",\"labels\":[\"Integer Features\",\"Object Features\"],\"values\":[2,3],\"type\":\"pie\",\"textfont\":{\"size\":12},\"marker\":{\"colors\":[\"#a8e6cf\",\"#ff8b94\"]},\"title\":{\"text\":\"Features Distribution\"},\"showlegend\":false,\"textinfo\":\"label\"}],                        {\"template\":{\"data\":{\"bar\":[{\"error_x\":{\"color\":\"#2a3f5f\"},\"error_y\":{\"color\":\"#2a3f5f\"},\"marker\":{\"line\":{\"color\":\"#E5ECF6\",\"width\":0.5},\"pattern\":{\"fillmode\":\"overlay\",\"size\":10,\"solidity\":0.2}},\"type\":\"bar\"}],\"barpolar\":[{\"marker\":{\"line\":{\"color\":\"#E5ECF6\",\"width\":0.5},\"pattern\":{\"fillmode\":\"overlay\",\"size\":10,\"solidity\":0.2}},\"type\":\"barpolar\"}],\"carpet\":[{\"aaxis\":{\"endlinecolor\":\"#2a3f5f\",\"gridcolor\":\"white\",\"linecolor\":\"white\",\"minorgridcolor\":\"white\",\"startlinecolor\":\"#2a3f5f\"},\"baxis\":{\"endlinecolor\":\"#2a3f5f\",\"gridcolor\":\"white\",\"linecolor\":\"white\",\"minorgridcolor\":\"white\",\"startlinecolor\":\"#2a3f5f\"},\"type\":\"carpet\"}],\"choropleth\":[{\"colorbar\":{\"outlinewidth\":0,\"ticks\":\"\"},\"type\":\"choropleth\"}],\"contour\":[{\"colorbar\":{\"outlinewidth\":0,\"ticks\":\"\"},\"colorscale\":[[0.0,\"#0d0887\"],[0.1111111111111111,\"#46039f\"],[0.2222222222222222,\"#7201a8\"],[0.3333333333333333,\"#9c179e\"],[0.4444444444444444,\"#bd3786\"],[0.5555555555555556,\"#d8576b\"],[0.6666666666666666,\"#ed7953\"],[0.7777777777777778,\"#fb9f3a\"],[0.8888888888888888,\"#fdca26\"],[1.0,\"#f0f921\"]],\"type\":\"contour\"}],\"contourcarpet\":[{\"colorbar\":{\"outlinewidth\":0,\"ticks\":\"\"},\"type\":\"contourcarpet\"}],\"heatmap\":[{\"colorbar\":{\"outlinewidth\":0,\"ticks\":\"\"},\"colorscale\":[[0.0,\"#0d0887\"],[0.1111111111111111,\"#46039f\"],[0.2222222222222222,\"#7201a8\"],[0.3333333333333333,\"#9c179e\"],[0.4444444444444444,\"#bd3786\"],[0.5555555555555556,\"#d8576b\"],[0.6666666666666666,\"#ed7953\"],[0.7777777777777778,\"#fb9f3a\"],[0.8888888888888888,\"#fdca26\"],[1.0,\"#f0f921\"]],\"type\":\"heatmap\"}],\"heatmapgl\":[{\"colorbar\":{\"outlinewidth\":0,\"ticks\":\"\"},\"colorscale\":[[0.0,\"#0d0887\"],[0.1111111111111111,\"#46039f\"],[0.2222222222222222,\"#7201a8\"],[0.3333333333333333,\"#9c179e\"],[0.4444444444444444,\"#bd3786\"],[0.5555555555555556,\"#d8576b\"],[0.6666666666666666,\"#ed7953\"],[0.7777777777777778,\"#fb9f3a\"],[0.8888888888888888,\"#fdca26\"],[1.0,\"#f0f921\"]],\"type\":\"heatmapgl\"}],\"histogram\":[{\"marker\":{\"pattern\":{\"fillmode\":\"overlay\",\"size\":10,\"solidity\":0.2}},\"type\":\"histogram\"}],\"histogram2d\":[{\"colorbar\":{\"outlinewidth\":0,\"ticks\":\"\"},\"colorscale\":[[0.0,\"#0d0887\"],[0.1111111111111111,\"#46039f\"],[0.2222222222222222,\"#7201a8\"],[0.3333333333333333,\"#9c179e\"],[0.4444444444444444,\"#bd3786\"],[0.5555555555555556,\"#d8576b\"],[0.6666666666666666,\"#ed7953\"],[0.7777777777777778,\"#fb9f3a\"],[0.8888888888888888,\"#fdca26\"],[1.0,\"#f0f921\"]],\"type\":\"histogram2d\"}],\"histogram2dcontour\":[{\"colorbar\":{\"outlinewidth\":0,\"ticks\":\"\"},\"colorscale\":[[0.0,\"#0d0887\"],[0.1111111111111111,\"#46039f\"],[0.2222222222222222,\"#7201a8\"],[0.3333333333333333,\"#9c179e\"],[0.4444444444444444,\"#bd3786\"],[0.5555555555555556,\"#d8576b\"],[0.6666666666666666,\"#ed7953\"],[0.7777777777777778,\"#fb9f3a\"],[0.8888888888888888,\"#fdca26\"],[1.0,\"#f0f921\"]],\"type\":\"histogram2dcontour\"}],\"mesh3d\":[{\"colorbar\":{\"outlinewidth\":0,\"ticks\":\"\"},\"type\":\"mesh3d\"}],\"parcoords\":[{\"line\":{\"colorbar\":{\"outlinewidth\":0,\"ticks\":\"\"}},\"type\":\"parcoords\"}],\"pie\":[{\"automargin\":true,\"type\":\"pie\"}],\"scatter\":[{\"marker\":{\"colorbar\":{\"outlinewidth\":0,\"ticks\":\"\"}},\"type\":\"scatter\"}],\"scatter3d\":[{\"line\":{\"colorbar\":{\"outlinewidth\":0,\"ticks\":\"\"}},\"marker\":{\"colorbar\":{\"outlinewidth\":0,\"ticks\":\"\"}},\"type\":\"scatter3d\"}],\"scattercarpet\":[{\"marker\":{\"colorbar\":{\"outlinewidth\":0,\"ticks\":\"\"}},\"type\":\"scattercarpet\"}],\"scattergeo\":[{\"marker\":{\"colorbar\":{\"outlinewidth\":0,\"ticks\":\"\"}},\"type\":\"scattergeo\"}],\"scattergl\":[{\"marker\":{\"colorbar\":{\"outlinewidth\":0,\"ticks\":\"\"}},\"type\":\"scattergl\"}],\"scattermapbox\":[{\"marker\":{\"colorbar\":{\"outlinewidth\":0,\"ticks\":\"\"}},\"type\":\"scattermapbox\"}],\"scatterpolar\":[{\"marker\":{\"colorbar\":{\"outlinewidth\":0,\"ticks\":\"\"}},\"type\":\"scatterpolar\"}],\"scatterpolargl\":[{\"marker\":{\"colorbar\":{\"outlinewidth\":0,\"ticks\":\"\"}},\"type\":\"scatterpolargl\"}],\"scatterternary\":[{\"marker\":{\"colorbar\":{\"outlinewidth\":0,\"ticks\":\"\"}},\"type\":\"scatterternary\"}],\"surface\":[{\"colorbar\":{\"outlinewidth\":0,\"ticks\":\"\"},\"colorscale\":[[0.0,\"#0d0887\"],[0.1111111111111111,\"#46039f\"],[0.2222222222222222,\"#7201a8\"],[0.3333333333333333,\"#9c179e\"],[0.4444444444444444,\"#bd3786\"],[0.5555555555555556,\"#d8576b\"],[0.6666666666666666,\"#ed7953\"],[0.7777777777777778,\"#fb9f3a\"],[0.8888888888888888,\"#fdca26\"],[1.0,\"#f0f921\"]],\"type\":\"surface\"}],\"table\":[{\"cells\":{\"fill\":{\"color\":\"#EBF0F8\"},\"line\":{\"color\":\"white\"}},\"header\":{\"fill\":{\"color\":\"#C8D4E3\"},\"line\":{\"color\":\"white\"}},\"type\":\"table\"}]},\"layout\":{\"annotationdefaults\":{\"arrowcolor\":\"#2a3f5f\",\"arrowhead\":0,\"arrowwidth\":1},\"autotypenumbers\":\"strict\",\"coloraxis\":{\"colorbar\":{\"outlinewidth\":0,\"ticks\":\"\"}},\"colorscale\":{\"diverging\":[[0,\"#8e0152\"],[0.1,\"#c51b7d\"],[0.2,\"#de77ae\"],[0.3,\"#f1b6da\"],[0.4,\"#fde0ef\"],[0.5,\"#f7f7f7\"],[0.6,\"#e6f5d0\"],[0.7,\"#b8e186\"],[0.8,\"#7fbc41\"],[0.9,\"#4d9221\"],[1,\"#276419\"]],\"sequential\":[[0.0,\"#0d0887\"],[0.1111111111111111,\"#46039f\"],[0.2222222222222222,\"#7201a8\"],[0.3333333333333333,\"#9c179e\"],[0.4444444444444444,\"#bd3786\"],[0.5555555555555556,\"#d8576b\"],[0.6666666666666666,\"#ed7953\"],[0.7777777777777778,\"#fb9f3a\"],[0.8888888888888888,\"#fdca26\"],[1.0,\"#f0f921\"]],\"sequentialminus\":[[0.0,\"#0d0887\"],[0.1111111111111111,\"#46039f\"],[0.2222222222222222,\"#7201a8\"],[0.3333333333333333,\"#9c179e\"],[0.4444444444444444,\"#bd3786\"],[0.5555555555555556,\"#d8576b\"],[0.6666666666666666,\"#ed7953\"],[0.7777777777777778,\"#fb9f3a\"],[0.8888888888888888,\"#fdca26\"],[1.0,\"#f0f921\"]]},\"colorway\":[\"#636efa\",\"#EF553B\",\"#00cc96\",\"#ab63fa\",\"#FFA15A\",\"#19d3f3\",\"#FF6692\",\"#B6E880\",\"#FF97FF\",\"#FECB52\"],\"font\":{\"color\":\"#2a3f5f\"},\"geo\":{\"bgcolor\":\"white\",\"lakecolor\":\"white\",\"landcolor\":\"#E5ECF6\",\"showlakes\":true,\"showland\":true,\"subunitcolor\":\"white\"},\"hoverlabel\":{\"align\":\"left\"},\"hovermode\":\"closest\",\"mapbox\":{\"style\":\"light\"},\"paper_bgcolor\":\"white\",\"plot_bgcolor\":\"#E5ECF6\",\"polar\":{\"angularaxis\":{\"gridcolor\":\"white\",\"linecolor\":\"white\",\"ticks\":\"\"},\"bgcolor\":\"#E5ECF6\",\"radialaxis\":{\"gridcolor\":\"white\",\"linecolor\":\"white\",\"ticks\":\"\"}},\"scene\":{\"xaxis\":{\"backgroundcolor\":\"#E5ECF6\",\"gridcolor\":\"white\",\"gridwidth\":2,\"linecolor\":\"white\",\"showbackground\":true,\"ticks\":\"\",\"zerolinecolor\":\"white\"},\"yaxis\":{\"backgroundcolor\":\"#E5ECF6\",\"gridcolor\":\"white\",\"gridwidth\":2,\"linecolor\":\"white\",\"showbackground\":true,\"ticks\":\"\",\"zerolinecolor\":\"white\"},\"zaxis\":{\"backgroundcolor\":\"#E5ECF6\",\"gridcolor\":\"white\",\"gridwidth\":2,\"linecolor\":\"white\",\"showbackground\":true,\"ticks\":\"\",\"zerolinecolor\":\"white\"}},\"shapedefaults\":{\"line\":{\"color\":\"#2a3f5f\"}},\"ternary\":{\"aaxis\":{\"gridcolor\":\"white\",\"linecolor\":\"white\",\"ticks\":\"\"},\"baxis\":{\"gridcolor\":\"white\",\"linecolor\":\"white\",\"ticks\":\"\"},\"bgcolor\":\"#E5ECF6\",\"caxis\":{\"gridcolor\":\"white\",\"linecolor\":\"white\",\"ticks\":\"\"}},\"title\":{\"x\":0.05},\"xaxis\":{\"automargin\":true,\"gridcolor\":\"white\",\"linecolor\":\"white\",\"ticks\":\"\",\"title\":{\"standoff\":15},\"zerolinecolor\":\"white\",\"zerolinewidth\":2},\"yaxis\":{\"automargin\":true,\"gridcolor\":\"white\",\"linecolor\":\"white\",\"ticks\":\"\",\"title\":{\"standoff\":15},\"zerolinecolor\":\"white\",\"zerolinewidth\":2}}},\"xaxis\":{\"tickmode\":\"linear\"},\"title\":{\"font\":{\"size\":20,\"family\":\"Verdana\",\"color\":\"#003566\"},\"text\":\"<b>Features Distribution</b>\"},\"hoverlabel\":{\"font\":{\"size\":13}},\"height\":500,\"width\":700,\"bargap\":0.1,\"paper_bgcolor\":\"#F4F2F0\",\"plot_bgcolor\":\"#F4F2F0\",\"shapes\":[{\"type\":\"line\",\"x0\":-0.08,\"x1\":0.405,\"xref\":\"paper\",\"y0\":1.09,\"y1\":1.09,\"yref\":\"paper\"}]},                        {\"responsive\": true}                    ).then(function(){\n",
              "                            \n",
              "var gd = document.getElementById('2ffffd33-e218-4725-969a-36507634927f');\n",
              "var x = new MutationObserver(function (mutations, observer) {{\n",
              "        var display = window.getComputedStyle(gd).display;\n",
              "        if (!display || display === 'none') {{\n",
              "            console.log([gd, 'removed!']);\n",
              "            Plotly.purge(gd);\n",
              "            observer.disconnect();\n",
              "        }}\n",
              "}});\n",
              "\n",
              "// Listen for the removal of the full notebook cells\n",
              "var notebookContainer = gd.closest('#notebook-container');\n",
              "if (notebookContainer) {{\n",
              "    x.observe(notebookContainer, {childList: true});\n",
              "}}\n",
              "\n",
              "// Listen for the clearing of the current output cell\n",
              "var outputEl = gd.closest('.output');\n",
              "if (outputEl) {{\n",
              "    x.observe(outputEl, {childList: true});\n",
              "}}\n",
              "\n",
              "                        })                };                            </script>        </div>\n",
              "</body>\n",
              "</html>"
            ]
          },
          "metadata": {}
        }
      ]
    },
    {
      "cell_type": "code",
      "execution_count": 8,
      "metadata": {
        "colab": {
          "base_uri": "https://localhost:8080/",
          "height": 457
        },
        "id": "3fb784e0",
        "outputId": "345b17fe-57c7-4a57-d860-96e9fd6474c5"
      },
      "outputs": [
        {
          "output_type": "execute_result",
          "data": {
            "text/plain": [
              "                    num_sold\n",
              "country store               \n",
              "Germany KaggleMart   2068327\n",
              "Belgium KaggleMart   2064078\n",
              "France  KaggleMart   1865517\n",
              "Italy   KaggleMart   1635044\n",
              "Spain   KaggleMart   1487691\n",
              "Poland  KaggleMart    996597\n",
              "Germany KaggleRama    718088\n",
              "Belgium KaggleRama    716972\n",
              "France  KaggleRama    646802\n",
              "Italy   KaggleRama    566048\n",
              "Spain   KaggleRama    515547\n",
              "Poland  KaggleRama    344948"
            ],
            "text/html": [
              "\n",
              "  <div id=\"df-dba7c806-c314-4405-8708-3ecd6cdf02ad\">\n",
              "    <div class=\"colab-df-container\">\n",
              "      <div>\n",
              "<style scoped>\n",
              "    .dataframe tbody tr th:only-of-type {\n",
              "        vertical-align: middle;\n",
              "    }\n",
              "\n",
              "    .dataframe tbody tr th {\n",
              "        vertical-align: top;\n",
              "    }\n",
              "\n",
              "    .dataframe thead th {\n",
              "        text-align: right;\n",
              "    }\n",
              "</style>\n",
              "<table border=\"1\" class=\"dataframe\">\n",
              "  <thead>\n",
              "    <tr style=\"text-align: right;\">\n",
              "      <th></th>\n",
              "      <th></th>\n",
              "      <th>num_sold</th>\n",
              "    </tr>\n",
              "    <tr>\n",
              "      <th>country</th>\n",
              "      <th>store</th>\n",
              "      <th></th>\n",
              "    </tr>\n",
              "  </thead>\n",
              "  <tbody>\n",
              "    <tr>\n",
              "      <th>Germany</th>\n",
              "      <th>KaggleMart</th>\n",
              "      <td>2068327</td>\n",
              "    </tr>\n",
              "    <tr>\n",
              "      <th>Belgium</th>\n",
              "      <th>KaggleMart</th>\n",
              "      <td>2064078</td>\n",
              "    </tr>\n",
              "    <tr>\n",
              "      <th>France</th>\n",
              "      <th>KaggleMart</th>\n",
              "      <td>1865517</td>\n",
              "    </tr>\n",
              "    <tr>\n",
              "      <th>Italy</th>\n",
              "      <th>KaggleMart</th>\n",
              "      <td>1635044</td>\n",
              "    </tr>\n",
              "    <tr>\n",
              "      <th>Spain</th>\n",
              "      <th>KaggleMart</th>\n",
              "      <td>1487691</td>\n",
              "    </tr>\n",
              "    <tr>\n",
              "      <th>Poland</th>\n",
              "      <th>KaggleMart</th>\n",
              "      <td>996597</td>\n",
              "    </tr>\n",
              "    <tr>\n",
              "      <th>Germany</th>\n",
              "      <th>KaggleRama</th>\n",
              "      <td>718088</td>\n",
              "    </tr>\n",
              "    <tr>\n",
              "      <th>Belgium</th>\n",
              "      <th>KaggleRama</th>\n",
              "      <td>716972</td>\n",
              "    </tr>\n",
              "    <tr>\n",
              "      <th>France</th>\n",
              "      <th>KaggleRama</th>\n",
              "      <td>646802</td>\n",
              "    </tr>\n",
              "    <tr>\n",
              "      <th>Italy</th>\n",
              "      <th>KaggleRama</th>\n",
              "      <td>566048</td>\n",
              "    </tr>\n",
              "    <tr>\n",
              "      <th>Spain</th>\n",
              "      <th>KaggleRama</th>\n",
              "      <td>515547</td>\n",
              "    </tr>\n",
              "    <tr>\n",
              "      <th>Poland</th>\n",
              "      <th>KaggleRama</th>\n",
              "      <td>344948</td>\n",
              "    </tr>\n",
              "  </tbody>\n",
              "</table>\n",
              "</div>\n",
              "      <button class=\"colab-df-convert\" onclick=\"convertToInteractive('df-dba7c806-c314-4405-8708-3ecd6cdf02ad')\"\n",
              "              title=\"Convert this dataframe to an interactive table.\"\n",
              "              style=\"display:none;\">\n",
              "        \n",
              "  <svg xmlns=\"http://www.w3.org/2000/svg\" height=\"24px\"viewBox=\"0 0 24 24\"\n",
              "       width=\"24px\">\n",
              "    <path d=\"M0 0h24v24H0V0z\" fill=\"none\"/>\n",
              "    <path d=\"M18.56 5.44l.94 2.06.94-2.06 2.06-.94-2.06-.94-.94-2.06-.94 2.06-2.06.94zm-11 1L8.5 8.5l.94-2.06 2.06-.94-2.06-.94L8.5 2.5l-.94 2.06-2.06.94zm10 10l.94 2.06.94-2.06 2.06-.94-2.06-.94-.94-2.06-.94 2.06-2.06.94z\"/><path d=\"M17.41 7.96l-1.37-1.37c-.4-.4-.92-.59-1.43-.59-.52 0-1.04.2-1.43.59L10.3 9.45l-7.72 7.72c-.78.78-.78 2.05 0 2.83L4 21.41c.39.39.9.59 1.41.59.51 0 1.02-.2 1.41-.59l7.78-7.78 2.81-2.81c.8-.78.8-2.07 0-2.86zM5.41 20L4 18.59l7.72-7.72 1.47 1.35L5.41 20z\"/>\n",
              "  </svg>\n",
              "      </button>\n",
              "      \n",
              "  <style>\n",
              "    .colab-df-container {\n",
              "      display:flex;\n",
              "      flex-wrap:wrap;\n",
              "      gap: 12px;\n",
              "    }\n",
              "\n",
              "    .colab-df-convert {\n",
              "      background-color: #E8F0FE;\n",
              "      border: none;\n",
              "      border-radius: 50%;\n",
              "      cursor: pointer;\n",
              "      display: none;\n",
              "      fill: #1967D2;\n",
              "      height: 32px;\n",
              "      padding: 0 0 0 0;\n",
              "      width: 32px;\n",
              "    }\n",
              "\n",
              "    .colab-df-convert:hover {\n",
              "      background-color: #E2EBFA;\n",
              "      box-shadow: 0px 1px 2px rgba(60, 64, 67, 0.3), 0px 1px 3px 1px rgba(60, 64, 67, 0.15);\n",
              "      fill: #174EA6;\n",
              "    }\n",
              "\n",
              "    [theme=dark] .colab-df-convert {\n",
              "      background-color: #3B4455;\n",
              "      fill: #D2E3FC;\n",
              "    }\n",
              "\n",
              "    [theme=dark] .colab-df-convert:hover {\n",
              "      background-color: #434B5C;\n",
              "      box-shadow: 0px 1px 3px 1px rgba(0, 0, 0, 0.15);\n",
              "      filter: drop-shadow(0px 1px 2px rgba(0, 0, 0, 0.3));\n",
              "      fill: #FFFFFF;\n",
              "    }\n",
              "  </style>\n",
              "\n",
              "      <script>\n",
              "        const buttonEl =\n",
              "          document.querySelector('#df-dba7c806-c314-4405-8708-3ecd6cdf02ad button.colab-df-convert');\n",
              "        buttonEl.style.display =\n",
              "          google.colab.kernel.accessAllowed ? 'block' : 'none';\n",
              "\n",
              "        async function convertToInteractive(key) {\n",
              "          const element = document.querySelector('#df-dba7c806-c314-4405-8708-3ecd6cdf02ad');\n",
              "          const dataTable =\n",
              "            await google.colab.kernel.invokeFunction('convertToInteractive',\n",
              "                                                     [key], {});\n",
              "          if (!dataTable) return;\n",
              "\n",
              "          const docLinkHtml = 'Like what you see? Visit the ' +\n",
              "            '<a target=\"_blank\" href=https://colab.research.google.com/notebooks/data_table.ipynb>data table notebook</a>'\n",
              "            + ' to learn more about interactive tables.';\n",
              "          element.innerHTML = '';\n",
              "          dataTable['output_type'] = 'display_data';\n",
              "          await google.colab.output.renderOutput(dataTable, element);\n",
              "          const docLink = document.createElement('div');\n",
              "          docLink.innerHTML = docLinkHtml;\n",
              "          element.appendChild(docLink);\n",
              "        }\n",
              "      </script>\n",
              "    </div>\n",
              "  </div>\n",
              "  "
            ]
          },
          "metadata": {},
          "execution_count": 8
        }
      ],
      "source": [
        "df_train.groupby(['country', 'store']).agg({'num_sold':'sum'}).sort_values('num_sold', ascending=False)"
      ],
      "id": "3fb784e0"
    },
    {
      "cell_type": "code",
      "execution_count": 9,
      "metadata": {
        "colab": {
          "base_uri": "https://localhost:8080/",
          "height": 567
        },
        "id": "db3194c1",
        "outputId": "8d76a689-685c-4cfd-a381-7574fc1c2ff2"
      },
      "outputs": [
        {
          "output_type": "display_data",
          "data": {
            "text/plain": [
              "<Figure size 648x648 with 1 Axes>"
            ],
            "image/png": "[encoded data removed]"
          },
          "metadata": {
            "needs_background": "light"
          }
        }
      ],
      "source": [
        "plt.figure(figsize=(9, 9))\n",
        "sns.barplot(data=df_train, x='country', y='num_sold')\n",
        "plt.title('Sales / country')\n",
        "sns.set_theme(\n",
        "    context='notebook',\n",
        "    style='whitegrid',\n",
        "    palette='pastel',\n",
        "    font='sans-serif',\n",
        "    font_scale=1,\n",
        "    color_codes='r',\n",
        "    rc=None,\n",
        ")\n",
        "plt.show()"
      ],
      "id": "db3194c1"
    },
    {
      "cell_type": "code",
      "execution_count": 10,
      "metadata": {
        "colab": {
          "base_uri": "https://localhost:8080/",
          "height": 301
        },
        "id": "3a67589d",
        "outputId": "f9415ba0-3a27-4e72-dcd3-e98cb279b9dd"
      },
      "outputs": [
        {
          "output_type": "display_data",
          "data": {
            "text/plain": [
              "<Figure size 432x288 with 1 Axes>"
            ],
            "image/png": "[encoded data removed]"
          },
          "metadata": {}
        }
      ],
      "source": [
        "sns.barplot(data = df_train.groupby('store', as_index=False).agg({'num_sold':'sum'}), x='store', y='num_sold')\n",
        "plt.title('Total store turnover')\n",
        "plt.show()"
      ],
      "id": "3a67589d"
    },
    {
      "cell_type": "code",
      "execution_count": 11,
      "metadata": {
        "id": "cfe70439"
      },
      "outputs": [],
      "source": [
        "def add_time_feature(df):\n",
        "    import holidays\n",
        "     \n",
        "    #### Date\n",
        "    df['week']= df['date'].dt.week\n",
        "    df['year'] = df['date'].dt.year\n",
        "    df['quarter'] = df['date'].dt.quarter\n",
        "    df['day'] = df['date'].dt.day\n",
        "    df['dayofyear'] = df['date'].dt.dayofyear\n",
        "    df.loc[(df.date.dt.is_leap_year) & (df.dayofyear >= 60),'dayofyear'] -= 1\n",
        "    df['weekend'] = df['date'].dt.weekday >=5\n",
        "    df['weekday'] = df['date'].dt.weekday\n",
        "    df['month']= df['date'].dt.month\n",
        "    df['dayOfMonth'] = df['date'].dt.day\n",
        "    \n",
        "    #### Till The Next Holiday\n",
        "    def get_country_holidays(country, years_list):\n",
        "        festivities = holidays.CountryHoliday(country, years=years_list)\n",
        "        festivities_df = pd.DataFrame.from_dict(festivities, orient='index').reset_index().rename(columns={'index':'date', 0:'festivity_name'})\n",
        "        festivities_df['date'] = pd.to_datetime(festivities_df['date'])\n",
        "\n",
        "        additional_dates = [[pd.to_datetime(f'{year}-12-24'), 'Christmas Eve'] for year in years_list]\n",
        "        additional_dates += [[pd.to_datetime(f'{year}-12-29'), 'Peak in sales 1/2'] for year in years_list]\n",
        "        additional_dates += [[pd.to_datetime(f'{year}-12-30'), 'Peak in sales 2/2'] for year in years_list]\n",
        "        additional_dates += [[pd.to_datetime(f'{year}-12-31'), 'Saint Sylvester'] for year in years_list]\n",
        "        additional_dates += [[pd.to_datetime(f'{year}-01-01'), 'New Year'] for year in years_list]\n",
        "        additional_festivities_df = pd.DataFrame(additional_dates, columns=['date', 'festivity_name'])    \n",
        "\n",
        "        festivities_df = festivities_df.append(additional_festivities_df, ignore_index=True)\n",
        "        return festivities_df.sort_values('date')\n",
        "\n",
        "    def days_till_next_holiday(country, date):\n",
        "        country_holidays_dates = get_country_holidays(country, [date.year, date.year+1])['date']\n",
        "        next_date = min([holidays_date for holidays_date in country_holidays_dates if holidays_date >= date])\n",
        "        return (next_date - date).days\n",
        "    \n",
        "    df['days_till_next_holiday'] = df.apply(lambda x: days_till_next_holiday(x['country'], x['date']), axis=1)"
      ],
      "id": "cfe70439"
    },
    {
      "cell_type": "code",
      "execution_count": 12,
      "metadata": {
        "id": "65f8942a"
      },
      "outputs": [],
      "source": [
        "df = pd.concat([df_train, df_test], axis=0, ignore_index=True)"
      ],
      "id": "65f8942a"
    },
    {
      "cell_type": "code",
      "execution_count": 13,
      "metadata": {
        "id": "bbead0cf"
      },
      "outputs": [],
      "source": [
        "add_time_feature(df)"
      ],
      "id": "bbead0cf"
    },
    {
      "cell_type": "code",
      "source": [
        "df.info()"
      ],
      "metadata": {
        "colab": {
          "base_uri": "https://localhost:8080/"
        },
        "id": "8aQfl-YAHteB",
        "outputId": "70d18fbb-eff1-495b-cad7-f63b4c8299e6"
      },
      "id": "8aQfl-YAHteB",
      "execution_count": 24,
      "outputs": [
        {
          "output_type": "stream",
          "name": "stdout",
          "text": [
            "<class 'pandas.core.frame.DataFrame'>\n",
            "RangeIndex: 87648 entries, 0 to 87647\n",
            "Data columns (total 16 columns):\n",
            " #   Column                  Non-Null Count  Dtype         \n",
            "---  ------                  --------------  -----         \n",
            " 0   row_id                  87648 non-null  int64         \n",
            " 1   date                    87648 non-null  datetime64[ns]\n",
            " 2   country                 87648 non-null  object        \n",
            " 3   store                   87648 non-null  object        \n",
            " 4   product                 87648 non-null  object        \n",
            " 5   num_sold                70128 non-null  float64       \n",
            " 6   week                    87648 non-null  int64         \n",
            " 7   year                    87648 non-null  int64         \n",
            " 8   quarter                 87648 non-null  int64         \n",
            " 9   day                     87648 non-null  int64         \n",
            " 10  dayofyear               87648 non-null  int64         \n",
            " 11  weekend                 87648 non-null  bool          \n",
            " 12  weekday                 87648 non-null  int64         \n",
            " 13  month                   87648 non-null  int64         \n",
            " 14  dayOfMonth              87648 non-null  int64         \n",
            " 15  days_till_next_holiday  87648 non-null  int64         \n",
            "dtypes: bool(1), datetime64[ns](1), float64(1), int64(10), object(3)\n",
            "memory usage: 10.1+ MB\n"
          ]
        }
      ]
    },
    {
      "cell_type": "code",
      "source": [
        "week_df = df.groupby('weekday', as_index=False).agg({'num_sold':'sum'})\n",
        "week_df['weekday'] = ['Monday', 'Tuesday', 'Wednesday',  'Thursday','Friday','Saturday', 'Sunday']"
      ],
      "metadata": {
        "id": "kAMCHjv5lFOj"
      },
      "id": "kAMCHjv5lFOj",
      "execution_count": 32,
      "outputs": []
    },
    {
      "cell_type": "code",
      "source": [
        "plt.figure(figsize=(9, 9))\n",
        "sns.barplot(data=week_df, x='weekday', y= 'num_sold')\n",
        "plt.title('Sales / weekday')\n",
        "sns.set_theme(\n",
        "    context='notebook',\n",
        "    style='whitegrid',\n",
        "    palette='pastel',\n",
        "    font='sans-serif',\n",
        "    font_scale=1,\n",
        "    color_codes='r',\n",
        "    rc=None,\n",
        ")\n",
        "plt.show()"
      ],
      "metadata": {
        "colab": {
          "base_uri": "https://localhost:8080/",
          "height": 573
        },
        "id": "UOAToo6niZ_w",
        "outputId": "91e0405f-5197-4766-a2bc-ce77fba5289c"
      },
      "id": "UOAToo6niZ_w",
      "execution_count": 35,
      "outputs": [
        {
          "output_type": "display_data",
          "data": {
            "text/plain": [
              "<Figure size 648x648 with 1 Axes>"
            ],
            "image/png": "[encoded data removed]"
          },
          "metadata": {}
        }
      ]
    },
    {
      "cell_type": "code",
      "execution_count": 38,
      "metadata": {
        "colab": {
          "base_uri": "https://localhost:8080/",
          "height": 301
        },
        "id": "50tnKRMrAw5i",
        "outputId": "b1a8a480-9065-43dd-db8c-e04412bbe756"
      },
      "outputs": [
        {
          "output_type": "display_data",
          "data": {
            "text/plain": [
              "<Figure size 432x288 with 1 Axes>"
            ],
            "image/png": "[encoded data removed]"
          },
          "metadata": {}
        }
      ],
      "source": [
        "sns.barplot(data=df[df['year'] <2021]#withot 2021, becouse have no data\n",
        "            .groupby('year',as_index=False).agg({'num_sold':'sum'}), x='year', y='num_sold');\n",
        "plt.title('Total turnover per year')\n",
        "plt.show()"
      ],
      "id": "50tnKRMrAw5i"
    },
    {
      "cell_type": "code",
      "source": [
        "df.drop(['num_sold'], axis=1, inplace=True)"
      ],
      "metadata": {
        "id": "EIOTsgtvFkAJ"
      },
      "id": "EIOTsgtvFkAJ",
      "execution_count": 39,
      "outputs": []
    },
    {
      "cell_type": "code",
      "source": [
        "df.drop(['row_id', 'date'], axis=1, inplace=True)"
      ],
      "metadata": {
        "id": "slQ2MgZ4rHxI"
      },
      "id": "slQ2MgZ4rHxI",
      "execution_count": 123,
      "outputs": []
    },
    {
      "cell_type": "code",
      "execution_count": 125,
      "metadata": {
        "id": "O5okoen3WZy5",
        "colab": {
          "base_uri": "https://localhost:8080/"
        },
        "outputId": "b3f63227-3a46-495b-bcfb-4e92a450581f"
      },
      "outputs": [
        {
          "output_type": "stream",
          "name": "stdout",
          "text": [
            "<class 'pandas.core.frame.DataFrame'>\n",
            "RangeIndex: 87648 entries, 0 to 87647\n",
            "Data columns (total 14 columns):\n",
            " #   Column                  Non-Null Count  Dtype \n",
            "---  ------                  --------------  ----- \n",
            " 0   country                 87648 non-null  object\n",
            " 1   store                   87648 non-null  object\n",
            " 2   product                 87648 non-null  object\n",
            " 3   week                    87648 non-null  int64 \n",
            " 4   year                    87648 non-null  int64 \n",
            " 5   quarter                 87648 non-null  int64 \n",
            " 6   day                     87648 non-null  int64 \n",
            " 7   dayofyear               87648 non-null  int64 \n",
            " 8   weekend                 87648 non-null  bool  \n",
            " 9   weekday                 87648 non-null  int64 \n",
            " 10  month                   87648 non-null  int64 \n",
            " 11  dayOfMonth              87648 non-null  int64 \n",
            " 12  days_till_next_holiday  87648 non-null  int64 \n",
            " 13  Random                  87648 non-null  int64 \n",
            "dtypes: bool(1), int64(10), object(3)\n",
            "memory usage: 8.8+ MB\n"
          ]
        }
      ],
      "source": [
        "df.info()"
      ],
      "id": "O5okoen3WZy5"
    },
    {
      "cell_type": "code",
      "source": [
        "df['Random'] = np.random.randint(1, 10, df.shape[0])"
      ],
      "metadata": {
        "id": "cmHXwzLWp_Vf"
      },
      "id": "cmHXwzLWp_Vf",
      "execution_count": 105,
      "outputs": []
    },
    {
      "cell_type": "code",
      "execution_count": 126,
      "metadata": {
        "id": "08340418"
      },
      "outputs": [],
      "source": [
        "X, test = df[:place_split], df[place_split:]"
      ],
      "id": "08340418"
    },
    {
      "cell_type": "code",
      "execution_count": 127,
      "metadata": {
        "id": "koYxF3uaC9KJ"
      },
      "outputs": [],
      "source": [
        "from sklearn.preprocessing import LabelEncoder\n",
        "enc = LabelEncoder()\n",
        "cols = ['country', 'store', 'product', 'weekend']\n",
        "for col in cols:\n",
        "    le = LabelEncoder()\n",
        "    X[col] = enc.fit_transform(X[col])\n",
        "    test[col] = enc.transform(test[col])"
      ],
      "id": "koYxF3uaC9KJ"
    },
    {
      "cell_type": "code",
      "source": [
        "y = df_train['num_sold']"
      ],
      "metadata": {
        "id": "9iy2UJAfM_r0"
      },
      "id": "9iy2UJAfM_r0",
      "execution_count": 128,
      "outputs": []
    },
    {
      "cell_type": "code",
      "execution_count": 129,
      "metadata": {
        "id": "03fde394"
      },
      "outputs": [],
      "source": [
        "from sklearn.model_selection import train_test_split"
      ],
      "id": "03fde394"
    },
    {
      "cell_type": "code",
      "execution_count": 130,
      "metadata": {
        "id": "d9ca2e9b"
      },
      "outputs": [],
      "source": [
        "X_train, X_val, y_train, y_val = train_test_split(X, y, test_size = 0.2, random_state=42)"
      ],
      "id": "d9ca2e9b"
    },
    {
      "cell_type": "code",
      "execution_count": 131,
      "metadata": {
        "colab": {
          "base_uri": "https://localhost:8080/"
        },
        "id": "e3c2e680",
        "outputId": "63848147-5dd3-46b4-81b4-6111581aa0ec"
      },
      "outputs": [
        {
          "output_type": "execute_result",
          "data": {
            "text/plain": [
              "((56102, 14), (14026, 14), (56102,), (14026,))"
            ]
          },
          "metadata": {},
          "execution_count": 131
        }
      ],
      "source": [
        "X_train.shape, X_val.shape, y_train.shape, y_val.shape"
      ],
      "id": "e3c2e680"
    },
    {
      "cell_type": "code",
      "source": [
        "from sklearn.ensemble import RandomForestRegressor\n",
        "'''n_estimators: int = 100, *, criterion: str = \"squared_error\", max_depth: Any | None = None, min_samples_split: int = 2,\n",
        "min_samples_leaf: int = 1, min_weight_fraction_leaf: float = 0, max_features: str = \"auto\", max_leaf_nodes: Any | None = None,\n",
        " min_impurity_decrease: float = 0, bootstrap: bool = True, oob_score: bool = False, n_jobs: Any | None = None, random_state: Any | None = None, \n",
        " verbose: int = 0, warm_start: bool = False, ccp_alpha: float = 0, max_samples: Any | None = None) -> None'''\n",
        "from sklearn.model_selection import GridSearchCV"
      ],
      "metadata": {
        "id": "EQwbrz2FIB96"
      },
      "id": "EQwbrz2FIB96",
      "execution_count": 132,
      "outputs": []
    },
    {
      "cell_type": "code",
      "execution_count": 133,
      "metadata": {
        "id": "23OhcPVEm5jA"
      },
      "outputs": [],
      "source": [
        "tree = RandomForestRegressor()"
      ],
      "id": "23OhcPVEm5jA"
    },
    {
      "cell_type": "code",
      "execution_count": 134,
      "metadata": {
        "id": "YY_jNtuam-Pg"
      },
      "outputs": [],
      "source": [
        "params_2 = {'n_estimators': [500], 'criterion': [\"squared_error\"], 'max_depth': [7], 'min_samples_split': [20], 'min_samples_leaf':[4], 'random_state': [42], \n",
        "            'ccp_alpha': [0.05],  'bootstrap': [True], 'oob_score':[True], 'verbose':[True]}"
      ],
      "id": "YY_jNtuam-Pg"
    },
    {
      "cell_type": "code",
      "execution_count": 135,
      "metadata": {
        "id": "CnZPxyMvpVlB"
      },
      "outputs": [],
      "source": [
        "grid_tree = GridSearchCV(tree, param_grid=params_2, cv=3, n_jobs=-1)"
      ],
      "id": "CnZPxyMvpVlB"
    },
    {
      "cell_type": "code",
      "execution_count": 136,
      "metadata": {
        "id": "3P-WSLI6pqja",
        "colab": {
          "base_uri": "https://localhost:8080/"
        },
        "outputId": "3c6912c0-7459-48dd-973f-1f723d77d415"
      },
      "outputs": [
        {
          "output_type": "stream",
          "name": "stderr",
          "text": [
            "[Parallel(n_jobs=1)]: Using backend SequentialBackend with 1 concurrent workers.\n",
            "[Parallel(n_jobs=1)]: Done 500 out of 500 | elapsed:   47.8s finished\n"
          ]
        },
        {
          "output_type": "execute_result",
          "data": {
            "text/plain": [
              "GridSearchCV(cv=3, estimator=RandomForestRegressor(), n_jobs=-1,\n",
              "             param_grid={'bootstrap': [True], 'ccp_alpha': [0.05],\n",
              "                         'criterion': ['squared_error'], 'max_depth': [7],\n",
              "                         'min_samples_leaf': [4], 'min_samples_split': [20],\n",
              "                         'n_estimators': [500], 'oob_score': [True],\n",
              "                         'random_state': [42], 'verbose': [True]})"
            ]
          },
          "metadata": {},
          "execution_count": 136
        }
      ],
      "source": [
        "grid_tree.fit(X_train, y_train)"
      ],
      "id": "3P-WSLI6pqja"
    },
    {
      "cell_type": "code",
      "execution_count": 137,
      "metadata": {
        "id": "dR3AE6LHbPlJ"
      },
      "outputs": [],
      "source": [
        "best_tree = grid_tree.best_estimator_\n",
        "feat_importants = pd.DataFrame(data=[X_train.columns, best_tree.feature_importances_]).T.rename(columns={0:'Feature', 1:'Importance'}).sort_values(by='Importance', ascending=False)"
      ],
      "id": "dR3AE6LHbPlJ"
    },
    {
      "cell_type": "code",
      "source": [
        "feat_importants.Importance = feat_importants.Importance.astype('Float32')\n",
        "feat_importants.Importance.dtype"
      ],
      "metadata": {
        "id": "sNcbHZ7WhPMp",
        "colab": {
          "base_uri": "https://localhost:8080/"
        },
        "outputId": "394a8897-7857-4553-ced1-dc7b993efa26"
      },
      "id": "sNcbHZ7WhPMp",
      "execution_count": 138,
      "outputs": [
        {
          "output_type": "execute_result",
          "data": {
            "text/plain": [
              "Float32Dtype()"
            ]
          },
          "metadata": {},
          "execution_count": 138
        }
      ]
    },
    {
      "cell_type": "code",
      "source": [
        "feat_importants"
      ],
      "metadata": {
        "colab": {
          "base_uri": "https://localhost:8080/",
          "height": 488
        },
        "id": "diDpKNYyr_rm",
        "outputId": "0f52d30b-ec37-4327-fd47-d1fa8123d60b"
      },
      "id": "diDpKNYyr_rm",
      "execution_count": 140,
      "outputs": [
        {
          "output_type": "execute_result",
          "data": {
            "text/plain": [
              "                   Feature  Importance\n",
              "1                    store    0.588817\n",
              "0                  country    0.155476\n",
              "2                  product    0.148179\n",
              "4                     year    0.053847\n",
              "7                dayofyear    0.029612\n",
              "3                     week    0.013676\n",
              "9                  weekday    0.004699\n",
              "8                  weekend    0.004647\n",
              "10                   month    0.000462\n",
              "5                  quarter    0.000349\n",
              "12  days_till_next_holiday    0.000092\n",
              "6                      day    0.000077\n",
              "11              dayOfMonth    0.000064\n",
              "13                  Random    0.000003"
            ],
            "text/html": [
              "\n",
              "  <div id=\"df-d7e43d8d-d9ea-43fe-86f3-89ae67a11f46\">\n",
              "    <div class=\"colab-df-container\">\n",
              "      <div>\n",
              "<style scoped>\n",
              "    .dataframe tbody tr th:only-of-type {\n",
              "        vertical-align: middle;\n",
              "    }\n",
              "\n",
              "    .dataframe tbody tr th {\n",
              "        vertical-align: top;\n",
              "    }\n",
              "\n",
              "    .dataframe thead th {\n",
              "        text-align: right;\n",
              "    }\n",
              "</style>\n",
              "<table border=\"1\" class=\"dataframe\">\n",
              "  <thead>\n",
              "    <tr style=\"text-align: right;\">\n",
              "      <th></th>\n",
              "      <th>Feature</th>\n",
              "      <th>Importance</th>\n",
              "    </tr>\n",
              "  </thead>\n",
              "  <tbody>\n",
              "    <tr>\n",
              "      <th>1</th>\n",
              "      <td>store</td>\n",
              "      <td>0.588817</td>\n",
              "    </tr>\n",
              "    <tr>\n",
              "      <th>0</th>\n",
              "      <td>country</td>\n",
              "      <td>0.155476</td>\n",
              "    </tr>\n",
              "    <tr>\n",
              "      <th>2</th>\n",
              "      <td>product</td>\n",
              "      <td>0.148179</td>\n",
              "    </tr>\n",
              "    <tr>\n",
              "      <th>4</th>\n",
              "      <td>year</td>\n",
              "      <td>0.053847</td>\n",
              "    </tr>\n",
              "    <tr>\n",
              "      <th>7</th>\n",
              "      <td>dayofyear</td>\n",
              "      <td>0.029612</td>\n",
              "    </tr>\n",
              "    <tr>\n",
              "      <th>3</th>\n",
              "      <td>week</td>\n",
              "      <td>0.013676</td>\n",
              "    </tr>\n",
              "    <tr>\n",
              "      <th>9</th>\n",
              "      <td>weekday</td>\n",
              "      <td>0.004699</td>\n",
              "    </tr>\n",
              "    <tr>\n",
              "      <th>8</th>\n",
              "      <td>weekend</td>\n",
              "      <td>0.004647</td>\n",
              "    </tr>\n",
              "    <tr>\n",
              "      <th>10</th>\n",
              "      <td>month</td>\n",
              "      <td>0.000462</td>\n",
              "    </tr>\n",
              "    <tr>\n",
              "      <th>5</th>\n",
              "      <td>quarter</td>\n",
              "      <td>0.000349</td>\n",
              "    </tr>\n",
              "    <tr>\n",
              "      <th>12</th>\n",
              "      <td>days_till_next_holiday</td>\n",
              "      <td>0.000092</td>\n",
              "    </tr>\n",
              "    <tr>\n",
              "      <th>6</th>\n",
              "      <td>day</td>\n",
              "      <td>0.000077</td>\n",
              "    </tr>\n",
              "    <tr>\n",
              "      <th>11</th>\n",
              "      <td>dayOfMonth</td>\n",
              "      <td>0.000064</td>\n",
              "    </tr>\n",
              "    <tr>\n",
              "      <th>13</th>\n",
              "      <td>Random</td>\n",
              "      <td>0.000003</td>\n",
              "    </tr>\n",
              "  </tbody>\n",
              "</table>\n",
              "</div>\n",
              "      <button class=\"colab-df-convert\" onclick=\"convertToInteractive('df-d7e43d8d-d9ea-43fe-86f3-89ae67a11f46')\"\n",
              "              title=\"Convert this dataframe to an interactive table.\"\n",
              "              style=\"display:none;\">\n",
              "        \n",
              "  <svg xmlns=\"http://www.w3.org/2000/svg\" height=\"24px\"viewBox=\"0 0 24 24\"\n",
              "       width=\"24px\">\n",
              "    <path d=\"M0 0h24v24H0V0z\" fill=\"none\"/>\n",
              "    <path d=\"M18.56 5.44l.94 2.06.94-2.06 2.06-.94-2.06-.94-.94-2.06-.94 2.06-2.06.94zm-11 1L8.5 8.5l.94-2.06 2.06-.94-2.06-.94L8.5 2.5l-.94 2.06-2.06.94zm10 10l.94 2.06.94-2.06 2.06-.94-2.06-.94-.94-2.06-.94 2.06-2.06.94z\"/><path d=\"M17.41 7.96l-1.37-1.37c-.4-.4-.92-.59-1.43-.59-.52 0-1.04.2-1.43.59L10.3 9.45l-7.72 7.72c-.78.78-.78 2.05 0 2.83L4 21.41c.39.39.9.59 1.41.59.51 0 1.02-.2 1.41-.59l7.78-7.78 2.81-2.81c.8-.78.8-2.07 0-2.86zM5.41 20L4 18.59l7.72-7.72 1.47 1.35L5.41 20z\"/>\n",
              "  </svg>\n",
              "      </button>\n",
              "      \n",
              "  <style>\n",
              "    .colab-df-container {\n",
              "      display:flex;\n",
              "      flex-wrap:wrap;\n",
              "      gap: 12px;\n",
              "    }\n",
              "\n",
              "    .colab-df-convert {\n",
              "      background-color: #E8F0FE;\n",
              "      border: none;\n",
              "      border-radius: 50%;\n",
              "      cursor: pointer;\n",
              "      display: none;\n",
              "      fill: #1967D2;\n",
              "      height: 32px;\n",
              "      padding: 0 0 0 0;\n",
              "      width: 32px;\n",
              "    }\n",
              "\n",
              "    .colab-df-convert:hover {\n",
              "      background-color: #E2EBFA;\n",
              "      box-shadow: 0px 1px 2px rgba(60, 64, 67, 0.3), 0px 1px 3px 1px rgba(60, 64, 67, 0.15);\n",
              "      fill: #174EA6;\n",
              "    }\n",
              "\n",
              "    [theme=dark] .colab-df-convert {\n",
              "      background-color: #3B4455;\n",
              "      fill: #D2E3FC;\n",
              "    }\n",
              "\n",
              "    [theme=dark] .colab-df-convert:hover {\n",
              "      background-color: #434B5C;\n",
              "      box-shadow: 0px 1px 3px 1px rgba(0, 0, 0, 0.15);\n",
              "      filter: drop-shadow(0px 1px 2px rgba(0, 0, 0, 0.3));\n",
              "      fill: #FFFFFF;\n",
              "    }\n",
              "  </style>\n",
              "\n",
              "      <script>\n",
              "        const buttonEl =\n",
              "          document.querySelector('#df-d7e43d8d-d9ea-43fe-86f3-89ae67a11f46 button.colab-df-convert');\n",
              "        buttonEl.style.display =\n",
              "          google.colab.kernel.accessAllowed ? 'block' : 'none';\n",
              "\n",
              "        async function convertToInteractive(key) {\n",
              "          const element = document.querySelector('#df-d7e43d8d-d9ea-43fe-86f3-89ae67a11f46');\n",
              "          const dataTable =\n",
              "            await google.colab.kernel.invokeFunction('convertToInteractive',\n",
              "                                                     [key], {});\n",
              "          if (!dataTable) return;\n",
              "\n",
              "          const docLinkHtml = 'Like what you see? Visit the ' +\n",
              "            '<a target=\"_blank\" href=https://colab.research.google.com/notebooks/data_table.ipynb>data table notebook</a>'\n",
              "            + ' to learn more about interactive tables.';\n",
              "          element.innerHTML = '';\n",
              "          dataTable['output_type'] = 'display_data';\n",
              "          await google.colab.output.renderOutput(dataTable, element);\n",
              "          const docLink = document.createElement('div');\n",
              "          docLink.innerHTML = docLinkHtml;\n",
              "          element.appendChild(docLink);\n",
              "        }\n",
              "      </script>\n",
              "    </div>\n",
              "  </div>\n",
              "  "
            ]
          },
          "metadata": {},
          "execution_count": 140
        }
      ]
    },
    {
      "cell_type": "code",
      "source": [
        "plt.figure(figsize=(14, 8)) \n",
        "sns.barplot(data=feat_importants, y = feat_importants['Importance'], x = feat_importants['Feature'])\n",
        "plt.xticks(rotation=45)"
      ],
      "metadata": {
        "colab": {
          "base_uri": "https://localhost:8080/",
          "height": 621
        },
        "id": "No7BSh60fPEK",
        "outputId": "f668a020-6bd8-403c-ee1d-3d3aad32200c"
      },
      "id": "No7BSh60fPEK",
      "execution_count": 142,
      "outputs": [
        {
          "output_type": "execute_result",
          "data": {
            "text/plain": [
              "(array([ 0,  1,  2,  3,  4,  5,  6,  7,  8,  9, 10, 11, 12, 13]),\n",
              " <a list of 14 Text major ticklabel objects>)"
            ]
          },
          "metadata": {},
          "execution_count": 142
        },
        {
          "output_type": "display_data",
          "data": {
            "text/plain": [
              "<Figure size 1008x576 with 1 Axes>"
            ],
            "image/png": "[encoded data removed]"
          },
          "metadata": {}
        }
      ]
    },
    {
      "cell_type": "code",
      "execution_count": 143,
      "metadata": {
        "colab": {
          "base_uri": "https://localhost:8080/"
        },
        "id": "xvZEz1JMan3D",
        "outputId": "0914fc50-c02d-426b-9c85-95cf71426cf1"
      },
      "outputs": [
        {
          "output_type": "stream",
          "name": "stderr",
          "text": [
            "[Parallel(n_jobs=1)]: Using backend SequentialBackend with 1 concurrent workers.\n",
            "[Parallel(n_jobs=1)]: Done 500 out of 500 | elapsed:    1.6s finished\n",
            "[Parallel(n_jobs=1)]: Using backend SequentialBackend with 1 concurrent workers.\n"
          ]
        },
        {
          "output_type": "stream",
          "name": "stdout",
          "text": [
            "R^2 Training Score: 0.95 \n",
            "R^2 Validation Score: 0.95\n"
          ]
        },
        {
          "output_type": "stream",
          "name": "stderr",
          "text": [
            "[Parallel(n_jobs=1)]: Done 500 out of 500 | elapsed:    0.4s finished\n"
          ]
        }
      ],
      "source": [
        "print('R^2 Training Score: {:.2f} \\nR^2 Validation Score: {:.2f}'.format(best_tree.score(X_train, y_train), \n",
        "                                                                                             best_tree.score(X_val, y_val)))"
      ],
      "id": "xvZEz1JMan3D"
    },
    {
      "cell_type": "code",
      "execution_count": 146,
      "metadata": {
        "id": "49KenUMQoSF3"
      },
      "outputs": [],
      "source": [
        "import lightgbm as lgbm  \n",
        "from lightgbm import LGBMRegressor"
      ],
      "id": "49KenUMQoSF3"
    },
    {
      "cell_type": "code",
      "source": [
        "train_features = [col for col in df.columns if col not in ['days_till_next_holiday','quarter', 'day', 'daOfMonth', 'Random']]"
      ],
      "metadata": {
        "id": "ygjXG4ZNMD0U"
      },
      "id": "ygjXG4ZNMD0U",
      "execution_count": 148,
      "outputs": []
    },
    {
      "cell_type": "code",
      "execution_count": 151,
      "metadata": {
        "id": "oQMnJPPd4j4b"
      },
      "outputs": [],
      "source": [
        "model =  LGBMRegressor(objective ='regression',learning_rate = 0.03, max_depth = 5, metric ='mae',\n",
        "                            n_estimators = 2000, random_state = 42)\n"
      ],
      "id": "oQMnJPPd4j4b"
    },
    {
      "cell_type": "code",
      "source": [
        "model.fit(X_train, y_train)"
      ],
      "metadata": {
        "colab": {
          "base_uri": "https://localhost:8080/"
        },
        "id": "J9FSG0dvNZCv",
        "outputId": "c63ddf9c-05e7-40fa-f45b-b941f8f9ca00"
      },
      "id": "J9FSG0dvNZCv",
      "execution_count": 152,
      "outputs": [
        {
          "output_type": "execute_result",
          "data": {
            "text/plain": [
              "LGBMRegressor(learning_rate=0.03, max_depth=5, metric='mae', n_estimators=2000,\n",
              "              objective='regression', random_state=42)"
            ]
          },
          "metadata": {},
          "execution_count": 152
        }
      ]
    },
    {
      "cell_type": "code",
      "source": [
        "Score_train = model.score(X_train, y_train)\n",
        "Val_score = model.score(X_val, y_val)\n",
        "print(f'Score on training set - {Score_train}.\\nScore on validation set - {Val_score}')"
      ],
      "metadata": {
        "colab": {
          "base_uri": "https://localhost:8080/"
        },
        "id": "LOxEEPx6NdNw",
        "outputId": "9d89aae3-02cd-44b6-d79a-0a5e1a3232ca"
      },
      "id": "LOxEEPx6NdNw",
      "execution_count": 153,
      "outputs": [
        {
          "output_type": "stream",
          "name": "stdout",
          "text": [
            "Score on training set - 0.9902180963713313.\n",
            "Score on validation set - 0.9879861830374671\n"
          ]
        }
      ]
    },
    {
      "cell_type": "code",
      "source": [
        "y_pred = model.predict(test)"
      ],
      "metadata": {
        "id": "tXaFvYCTs89o"
      },
      "id": "tXaFvYCTs89o",
      "execution_count": 177,
      "outputs": []
    },
    {
      "cell_type": "code",
      "execution_count": 178,
      "metadata": {
        "id": "pGWSmBBPs9IB"
      },
      "outputs": [],
      "source": [
        "submission = pd.DataFrame(data=y_pred, index=df_test.index)"
      ],
      "id": "pGWSmBBPs9IB"
    },
    {
      "cell_type": "code",
      "execution_count": 181,
      "metadata": {
        "id": "sfUaKOj2s9IC"
      },
      "outputs": [],
      "source": [
        "submission['row_id'] = df_test['row_id']"
      ],
      "id": "sfUaKOj2s9IC"
    },
    {
      "cell_type": "code",
      "execution_count": 183,
      "metadata": {
        "id": "d2dnwo-4s9IC"
      },
      "outputs": [],
      "source": [
        "submission.rename(columns={0:'num_sold'}, inplace=True)"
      ],
      "id": "d2dnwo-4s9IC"
    },
    {
      "cell_type": "code",
      "source": [
        "submission=submission.round({\"num_sold\":0})"
      ],
      "metadata": {
        "id": "s_dW8Kmas9IC"
      },
      "execution_count": 169,
      "outputs": [],
      "id": "s_dW8Kmas9IC"
    },
    {
      "cell_type": "code",
      "execution_count": 185,
      "metadata": {
        "id": "sKcAVlV4s9IC"
      },
      "outputs": [],
      "source": [
        "submission = submission.reindex(columns=['row_id', 'num_sold'])"
      ],
      "id": "sKcAVlV4s9IC"
    },
    {
      "cell_type": "code",
      "execution_count": 187,
      "metadata": {
        "id": "iyQN_cT0s9IC"
      },
      "outputs": [],
      "source": [
        "submission.to_csv('submission.csv', index=False, sep=',')"
      ],
      "id": "iyQN_cT0s9IC"
    },
    {
      "cell_type": "code",
      "source": [
        "submission"
      ],
      "metadata": {
        "colab": {
          "base_uri": "https://localhost:8080/",
          "height": 424
        },
        "id": "JvuZjtIMtvgP",
        "outputId": "795caad3-362e-4bac-874e-7ead48034be0"
      },
      "id": "JvuZjtIMtvgP",
      "execution_count": 188,
      "outputs": [
        {
          "output_type": "execute_result",
          "data": {
            "text/plain": [
              "       row_id    num_sold\n",
              "0       70128  394.266138\n",
              "1       70129  330.857090\n",
              "2       70130  274.349117\n",
              "3       70131  468.275729\n",
              "4       70132  144.610072\n",
              "...       ...         ...\n",
              "17515   87643  615.012005\n",
              "17516   87644  204.821375\n",
              "17517   87645  172.751732\n",
              "17518   87646  140.831215\n",
              "17519   87647  206.839677\n",
              "\n",
              "[17520 rows x 2 columns]"
            ],
            "text/html": [
              "\n",
              "  <div id=\"df-cbab3a27-8eaf-477c-91b6-7605a59639f6\">\n",
              "    <div class=\"colab-df-container\">\n",
              "      <div>\n",
              "<style scoped>\n",
              "    .dataframe tbody tr th:only-of-type {\n",
              "        vertical-align: middle;\n",
              "    }\n",
              "\n",
              "    .dataframe tbody tr th {\n",
              "        vertical-align: top;\n",
              "    }\n",
              "\n",
              "    .dataframe thead th {\n",
              "        text-align: right;\n",
              "    }\n",
              "</style>\n",
              "<table border=\"1\" class=\"dataframe\">\n",
              "  <thead>\n",
              "    <tr style=\"text-align: right;\">\n",
              "      <th></th>\n",
              "      <th>row_id</th>\n",
              "      <th>num_sold</th>\n",
              "    </tr>\n",
              "  </thead>\n",
              "  <tbody>\n",
              "    <tr>\n",
              "      <th>0</th>\n",
              "      <td>70128</td>\n",
              "      <td>394.266138</td>\n",
              "    </tr>\n",
              "    <tr>\n",
              "      <th>1</th>\n",
              "      <td>70129</td>\n",
              "      <td>330.857090</td>\n",
              "    </tr>\n",
              "    <tr>\n",
              "      <th>2</th>\n",
              "      <td>70130</td>\n",
              "      <td>274.349117</td>\n",
              "    </tr>\n",
              "    <tr>\n",
              "      <th>3</th>\n",
              "      <td>70131</td>\n",
              "      <td>468.275729</td>\n",
              "    </tr>\n",
              "    <tr>\n",
              "      <th>4</th>\n",
              "      <td>70132</td>\n",
              "      <td>144.610072</td>\n",
              "    </tr>\n",
              "    <tr>\n",
              "      <th>...</th>\n",
              "      <td>...</td>\n",
              "      <td>...</td>\n",
              "    </tr>\n",
              "    <tr>\n",
              "      <th>17515</th>\n",
              "      <td>87643</td>\n",
              "      <td>615.012005</td>\n",
              "    </tr>\n",
              "    <tr>\n",
              "      <th>17516</th>\n",
              "      <td>87644</td>\n",
              "      <td>204.821375</td>\n",
              "    </tr>\n",
              "    <tr>\n",
              "      <th>17517</th>\n",
              "      <td>87645</td>\n",
              "      <td>172.751732</td>\n",
              "    </tr>\n",
              "    <tr>\n",
              "      <th>17518</th>\n",
              "      <td>87646</td>\n",
              "      <td>140.831215</td>\n",
              "    </tr>\n",
              "    <tr>\n",
              "      <th>17519</th>\n",
              "      <td>87647</td>\n",
              "      <td>206.839677</td>\n",
              "    </tr>\n",
              "  </tbody>\n",
              "</table>\n",
              "<p>17520 rows × 2 columns</p>\n",
              "</div>\n",
              "      <button class=\"colab-df-convert\" onclick=\"convertToInteractive('df-cbab3a27-8eaf-477c-91b6-7605a59639f6')\"\n",
              "              title=\"Convert this dataframe to an interactive table.\"\n",
              "              style=\"display:none;\">\n",
              "        \n",
              "  <svg xmlns=\"http://www.w3.org/2000/svg\" height=\"24px\"viewBox=\"0 0 24 24\"\n",
              "       width=\"24px\">\n",
              "    <path d=\"M0 0h24v24H0V0z\" fill=\"none\"/>\n",
              "    <path d=\"M18.56 5.44l.94 2.06.94-2.06 2.06-.94-2.06-.94-.94-2.06-.94 2.06-2.06.94zm-11 1L8.5 8.5l.94-2.06 2.06-.94-2.06-.94L8.5 2.5l-.94 2.06-2.06.94zm10 10l.94 2.06.94-2.06 2.06-.94-2.06-.94-.94-2.06-.94 2.06-2.06.94z\"/><path d=\"M17.41 7.96l-1.37-1.37c-.4-.4-.92-.59-1.43-.59-.52 0-1.04.2-1.43.59L10.3 9.45l-7.72 7.72c-.78.78-.78 2.05 0 2.83L4 21.41c.39.39.9.59 1.41.59.51 0 1.02-.2 1.41-.59l7.78-7.78 2.81-2.81c.8-.78.8-2.07 0-2.86zM5.41 20L4 18.59l7.72-7.72 1.47 1.35L5.41 20z\"/>\n",
              "  </svg>\n",
              "      </button>\n",
              "      \n",
              "  <style>\n",
              "    .colab-df-container {\n",
              "      display:flex;\n",
              "      flex-wrap:wrap;\n",
              "      gap: 12px;\n",
              "    }\n",
              "\n",
              "    .colab-df-convert {\n",
              "      background-color: #E8F0FE;\n",
              "      border: none;\n",
              "      border-radius: 50%;\n",
              "      cursor: pointer;\n",
              "      display: none;\n",
              "      fill: #1967D2;\n",
              "      height: 32px;\n",
              "      padding: 0 0 0 0;\n",
              "      width: 32px;\n",
              "    }\n",
              "\n",
              "    .colab-df-convert:hover {\n",
              "      background-color: #E2EBFA;\n",
              "      box-shadow: 0px 1px 2px rgba(60, 64, 67, 0.3), 0px 1px 3px 1px rgba(60, 64, 67, 0.15);\n",
              "      fill: #174EA6;\n",
              "    }\n",
              "\n",
              "    [theme=dark] .colab-df-convert {\n",
              "      background-color: #3B4455;\n",
              "      fill: #D2E3FC;\n",
              "    }\n",
              "\n",
              "    [theme=dark] .colab-df-convert:hover {\n",
              "      background-color: #434B5C;\n",
              "      box-shadow: 0px 1px 3px 1px rgba(0, 0, 0, 0.15);\n",
              "      filter: drop-shadow(0px 1px 2px rgba(0, 0, 0, 0.3));\n",
              "      fill: #FFFFFF;\n",
              "    }\n",
              "  </style>\n",
              "\n",
              "      <script>\n",
              "        const buttonEl =\n",
              "          document.querySelector('#df-cbab3a27-8eaf-477c-91b6-7605a59639f6 button.colab-df-convert');\n",
              "        buttonEl.style.display =\n",
              "          google.colab.kernel.accessAllowed ? 'block' : 'none';\n",
              "\n",
              "        async function convertToInteractive(key) {\n",
              "          const element = document.querySelector('#df-cbab3a27-8eaf-477c-91b6-7605a59639f6');\n",
              "          const dataTable =\n",
              "            await google.colab.kernel.invokeFunction('convertToInteractive',\n",
              "                                                     [key], {});\n",
              "          if (!dataTable) return;\n",
              "\n",
              "          const docLinkHtml = 'Like what you see? Visit the ' +\n",
              "            '<a target=\"_blank\" href=https://colab.research.google.com/notebooks/data_table.ipynb>data table notebook</a>'\n",
              "            + ' to learn more about interactive tables.';\n",
              "          element.innerHTML = '';\n",
              "          dataTable['output_type'] = 'display_data';\n",
              "          await google.colab.output.renderOutput(dataTable, element);\n",
              "          const docLink = document.createElement('div');\n",
              "          docLink.innerHTML = docLinkHtml;\n",
              "          element.appendChild(docLink);\n",
              "        }\n",
              "      </script>\n",
              "    </div>\n",
              "  </div>\n",
              "  "
            ]
          },
          "metadata": {},
          "execution_count": 188
        }
      ]
    },
    {
      "cell_type": "code",
      "execution_count": 66,
      "metadata": {
        "colab": {
          "base_uri": "https://localhost:8080/"
        },
        "id": "Xg_-qFzi8szK",
        "outputId": "8a6a713b-2024-4e3c-8260-603e46b152d1"
      },
      "outputs": [
        {
          "output_type": "stream",
          "name": "stdout",
          "text": [
            "Looking in indexes: https://pypi.org/simple, https://us-python.pkg.dev/colab-wheels/public/simple/\n",
            "Collecting catboost\n",
            "  Downloading catboost-1.0.6-cp37-none-manylinux1_x86_64.whl (76.6 MB)\n",
            "\u001b[K     |████████████████████████████████| 76.6 MB 1.2 MB/s \n",
            "\u001b[?25hRequirement already satisfied: six in /usr/local/lib/python3.7/dist-packages (from catboost) (1.15.0)\n",
            "Requirement already satisfied: pandas>=0.24.0 in /usr/local/lib/python3.7/dist-packages (from catboost) (1.3.5)\n",
            "Requirement already satisfied: graphviz in /usr/local/lib/python3.7/dist-packages (from catboost) (0.10.1)\n",
            "Requirement already satisfied: matplotlib in /usr/local/lib/python3.7/dist-packages (from catboost) (3.2.2)\n",
            "Requirement already satisfied: scipy in /usr/local/lib/python3.7/dist-packages (from catboost) (1.7.3)\n",
            "Requirement already satisfied: plotly in /usr/local/lib/python3.7/dist-packages (from catboost) (5.5.0)\n",
            "Requirement already satisfied: numpy>=1.16.0 in /usr/local/lib/python3.7/dist-packages (from catboost) (1.21.6)\n",
            "Requirement already satisfied: pytz>=2017.3 in /usr/local/lib/python3.7/dist-packages (from pandas>=0.24.0->catboost) (2022.2.1)\n",
            "Requirement already satisfied: python-dateutil>=2.7.3 in /usr/local/lib/python3.7/dist-packages (from pandas>=0.24.0->catboost) (2.8.2)\n",
            "Requirement already satisfied: cycler>=0.10 in /usr/local/lib/python3.7/dist-packages (from matplotlib->catboost) (0.11.0)\n",
            "Requirement already satisfied: pyparsing!=2.0.4,!=2.1.2,!=2.1.6,>=2.0.1 in /usr/local/lib/python3.7/dist-packages (from matplotlib->catboost) (3.0.9)\n",
            "Requirement already satisfied: kiwisolver>=1.0.1 in /usr/local/lib/python3.7/dist-packages (from matplotlib->catboost) (1.4.4)\n",
            "Requirement already satisfied: typing-extensions in /usr/local/lib/python3.7/dist-packages (from kiwisolver>=1.0.1->matplotlib->catboost) (4.1.1)\n",
            "Requirement already satisfied: tenacity>=6.2.0 in /usr/local/lib/python3.7/dist-packages (from plotly->catboost) (8.0.1)\n",
            "Installing collected packages: catboost\n",
            "Successfully installed catboost-1.0.6\n"
          ]
        }
      ],
      "source": [
        "!pip install catboost"
      ],
      "id": "Xg_-qFzi8szK"
    },
    {
      "cell_type": "code",
      "execution_count": 67,
      "metadata": {
        "id": "ulQDcCO59CoQ"
      },
      "outputs": [],
      "source": [
        "from catboost import CatBoostRegressor, Pool, cv"
      ],
      "id": "ulQDcCO59CoQ"
    },
    {
      "cell_type": "code",
      "source": [
        "df_cat = df.drop(['row_id', 'date'], axis=1)"
      ],
      "metadata": {
        "id": "dZE_lNF-J7H_"
      },
      "id": "dZE_lNF-J7H_",
      "execution_count": 68,
      "outputs": []
    },
    {
      "cell_type": "code",
      "execution_count": 69,
      "metadata": {
        "id": "iWn7eHNCKr-8"
      },
      "outputs": [],
      "source": [
        "X_cat, test_cat = df_cat[:place_split], df_cat[place_split:]"
      ],
      "id": "iWn7eHNCKr-8"
    },
    {
      "cell_type": "code",
      "execution_count": 70,
      "metadata": {
        "id": "xkS2H1pXKr-9"
      },
      "outputs": [],
      "source": [
        "X_train, X_val, y_train, y_val = train_test_split(X_cat, y, test_size = 0.2, random_state=42)"
      ],
      "id": "xkS2H1pXKr-9"
    },
    {
      "cell_type": "code",
      "execution_count": 71,
      "metadata": {
        "colab": {
          "base_uri": "https://localhost:8080/"
        },
        "outputId": "bbc4315a-d889-4af6-a4c1-8416b5efe52b",
        "id": "RSKrO39AKr-9"
      },
      "outputs": [
        {
          "output_type": "execute_result",
          "data": {
            "text/plain": [
              "((56102, 13), (14026, 13), (56102,), (14026,))"
            ]
          },
          "metadata": {},
          "execution_count": 71
        }
      ],
      "source": [
        "X_train.shape, X_val.shape, y_train.shape, y_val.shape"
      ],
      "id": "RSKrO39AKr-9"
    },
    {
      "cell_type": "code",
      "source": [
        "categorial_feat = ['country', 'store', 'product', 'weekend']"
      ],
      "metadata": {
        "id": "jxU1g82lO5-n"
      },
      "id": "jxU1g82lO5-n",
      "execution_count": 75,
      "outputs": []
    },
    {
      "cell_type": "code",
      "source": [
        "grid = {'learning_rate': [0.05], 'iterations': [2000],\n",
        "        'depth': [8],\n",
        "        'l2_leaf_reg': [1]}"
      ],
      "metadata": {
        "id": "uTLHXWFZKHxw"
      },
      "id": "uTLHXWFZKHxw",
      "execution_count": 82,
      "outputs": []
    },
    {
      "cell_type": "code",
      "source": [
        "cat = CatBoostRegressor(random_seed=42, cat_features=categorial_feat)"
      ],
      "metadata": {
        "id": "toci8b2tQuoq"
      },
      "id": "toci8b2tQuoq",
      "execution_count": 83,
      "outputs": []
    },
    {
      "cell_type": "code",
      "source": [
        "grid_search_result = cat.grid_search(grid, X=X_train, y=y_train)"
      ],
      "metadata": {
        "id": "RuVSXHf9QcUp"
      },
      "id": "RuVSXHf9QcUp",
      "execution_count": null,
      "outputs": []
    },
    {
      "cell_type": "code",
      "source": [
        "cat.score(X_val, y_val)"
      ],
      "metadata": {
        "colab": {
          "base_uri": "https://localhost:8080/"
        },
        "id": "gm5T188OcUyT",
        "outputId": "8d4168ed-2bb4-41aa-a8ae-b7cc8b3fda0d"
      },
      "id": "gm5T188OcUyT",
      "execution_count": 85,
      "outputs": [
        {
          "output_type": "execute_result",
          "data": {
            "text/plain": [
              "0.9894949629764408"
            ]
          },
          "metadata": {},
          "execution_count": 85
        }
      ]
    },
    {
      "cell_type": "code",
      "source": [
        "#Get best from grid search\n",
        "params_cat = {'nan_mode': 'Min',\n",
        " 'eval_metric': 'RMSE',\n",
        " 'combinations_ctr': ['Borders:CtrBorderCount=15:CtrBorderType=Uniform:TargetBorderCount=1:TargetBorderType=MinEntropy:Prior=0/1:Prior=0.5/1:Prior=1/1',\n",
        "  'Counter:CtrBorderCount=15:CtrBorderType=Uniform:Prior=0/1'],\n",
        " 'iterations': 1750,\n",
        " 'sampling_frequency': 'PerTree',\n",
        " 'fold_permutation_block': 0,\n",
        " 'leaf_estimation_method': 'Newton',\n",
        " 'counter_calc_method': 'SkipTest',\n",
        " 'grow_policy': 'SymmetricTree',\n",
        " 'penalties_coefficient': 1,\n",
        " 'boosting_type': 'Plain',\n",
        " 'model_shrink_mode': 'Constant',\n",
        " 'feature_border_type': 'GreedyLogSum',\n",
        " 'ctr_leaf_count_limit': 18446744073709551615,\n",
        " 'bayesian_matrix_reg': 0.10000000149011612,\n",
        " 'one_hot_max_size': 2,\n",
        " 'force_unit_auto_pair_weights': False,\n",
        " 'l2_leaf_reg': 1,\n",
        " 'random_strength': 1,\n",
        " 'rsm': 1,\n",
        " 'boost_from_average': True,\n",
        " 'max_ctr_complexity': 4,\n",
        " 'model_size_reg': 0.5,\n",
        " 'simple_ctr': ['Borders:CtrBorderCount=15:CtrBorderType=Uniform:TargetBorderCount=1:TargetBorderType=MinEntropy:Prior=0/1:Prior=0.5/1:Prior=1/1',\n",
        "  'Counter:CtrBorderCount=15:CtrBorderType=Uniform:Prior=0/1'],\n",
        " 'pool_metainfo_options': {'tags': {}},\n",
        " 'subsample': 0.800000011920929,\n",
        " 'use_best_model': False,\n",
        " 'random_seed': 42,\n",
        " 'depth': 8,\n",
        " 'ctr_target_border_count': 1,\n",
        " 'posterior_sampling': False,\n",
        " 'has_time': False,\n",
        " 'store_all_simple_ctr': False,\n",
        " 'border_count': 254,\n",
        " 'classes_count': 0,\n",
        " 'auto_class_weights': 'None',\n",
        " 'sparse_features_conflict_fraction': 0,\n",
        " 'leaf_estimation_backtracking': 'AnyImprovement',\n",
        " 'best_model_min_trees': 1,\n",
        " 'model_shrink_rate': 0,\n",
        " 'min_data_in_leaf': 1,\n",
        " 'loss_function': 'RMSE',\n",
        " 'learning_rate': 0.05000000074505806,\n",
        " 'score_function': 'Cosine',\n",
        " 'task_type': 'CPU',\n",
        " 'leaf_estimation_iterations': 1,\n",
        " 'bootstrap_type': 'MVS',\n",
        " 'max_leaves': 256,\n",
        " 'permutation_count': 4}"
      ],
      "metadata": {
        "id": "Bz7oAVZikrOd"
      },
      "id": "Bz7oAVZikrOd",
      "execution_count": 86,
      "outputs": []
    },
    {
      "cell_type": "code",
      "source": [
        "cat.feature_importances_"
      ],
      "metadata": {
        "colab": {
          "base_uri": "https://localhost:8080/"
        },
        "id": "KAS8KHnUdSmf",
        "outputId": "89f1219d-b281-4392-f8b6-b55f8e2e610d"
      },
      "id": "KAS8KHnUdSmf",
      "execution_count": 97,
      "outputs": [
        {
          "output_type": "execute_result",
          "data": {
            "text/plain": [
              "array([11.21688169, 56.9518422 , 14.53998799,  1.33120635,  7.79513662,\n",
              "        0.64199273,  0.29939331,  3.42640161,  1.0651015 ,  1.10280879,\n",
              "        1.14343426,  0.09617019,  0.38964276])"
            ]
          },
          "metadata": {},
          "execution_count": 97
        }
      ]
    },
    {
      "cell_type": "code",
      "source": [
        "y_cat_pred = cat.predict(test_cat)"
      ],
      "metadata": {
        "id": "4j0pJ6blccUb"
      },
      "id": "4j0pJ6blccUb",
      "execution_count": 88,
      "outputs": []
    },
    {
      "cell_type": "code",
      "source": [
        "y_cat_pred"
      ],
      "metadata": {
        "colab": {
          "base_uri": "https://localhost:8080/"
        },
        "id": "ZFkkwhYBcoRY",
        "outputId": "d8ecbe7c-fe2a-4d29-d873-1ec5718cde2e"
      },
      "id": "ZFkkwhYBcoRY",
      "execution_count": 89,
      "outputs": [
        {
          "output_type": "execute_result",
          "data": {
            "text/plain": [
              "array([407.42054129, 351.12799814, 296.18185046, ..., 164.10135971,\n",
              "       141.25812604, 216.45645272])"
            ]
          },
          "metadata": {},
          "execution_count": 89
        }
      ]
    },
    {
      "cell_type": "code",
      "execution_count": 90,
      "metadata": {
        "id": "Rl_iSqBsTCp_"
      },
      "outputs": [],
      "source": [
        "submission = pd.DataFrame(data=y_cat_pred, index=test.index)"
      ],
      "id": "Rl_iSqBsTCp_"
    },
    {
      "cell_type": "code",
      "source": [
        "submission"
      ],
      "metadata": {
        "id": "r2frai-5Octw"
      },
      "id": "r2frai-5Octw",
      "execution_count": null,
      "outputs": []
    },
    {
      "cell_type": "code",
      "execution_count": 92,
      "metadata": {
        "id": "frLCW0yQTCp_"
      },
      "outputs": [],
      "source": [
        "submission['row_id'] = test['row_id']"
      ],
      "id": "frLCW0yQTCp_"
    },
    {
      "cell_type": "code",
      "execution_count": 93,
      "metadata": {
        "id": "UvE0cb4wTCp_"
      },
      "outputs": [],
      "source": [
        "submission.rename(columns={0:'num_sold'}, inplace=True)"
      ],
      "id": "UvE0cb4wTCp_"
    },
    {
      "cell_type": "code",
      "source": [
        "submission=submission.round({\"num_sold\":0})"
      ],
      "metadata": {
        "id": "M8RtXnK9S-Lc"
      },
      "id": "M8RtXnK9S-Lc",
      "execution_count": 94,
      "outputs": []
    },
    {
      "cell_type": "code",
      "execution_count": 95,
      "metadata": {
        "id": "luEtv_CKTCp_"
      },
      "outputs": [],
      "source": [
        "submission = submission.reindex(columns=['row_id', 'num_sold'])"
      ],
      "id": "luEtv_CKTCp_"
    },
    {
      "cell_type": "code",
      "execution_count": 96,
      "metadata": {
        "id": "6CmYv3jfTCqA"
      },
      "outputs": [],
      "source": [
        "submission.to_csv('submission.csv', index=False, sep=',')"
      ],
      "id": "6CmYv3jfTCqA"
    }
  ],
  "metadata": {
    "colab": {
      "collapsed_sections": [],
      "provenance": [],
      "include_colab_link": true
    },
    "kernelspec": {
      "display_name": "Python 3 (ipykernel)",
      "language": "python",
      "name": "python3"
    },
    "language_info": {
      "codemirror_mode": {
        "name": "ipython",
        "version": 3
      },
      "file_extension": ".py",
      "mimetype": "text/x-python",
      "name": "python",
      "nbconvert_exporter": "python",
      "pygments_lexer": "ipython3",
      "version": "3.9.12"
    }
  },
  "nbformat": 4,
  "nbformat_minor": 5
}